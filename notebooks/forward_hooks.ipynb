{
 "cells": [
  {
   "cell_type": "markdown",
   "id": "ea5d0909-f359-45de-916b-c6e169b54f19",
   "metadata": {},
   "source": [
    "# HOOKS FOR COLLECTING ACTIVATIONS"
   ]
  },
  {
   "cell_type": "markdown",
   "id": "85749000-207b-4665-8824-cecc7148ad88",
   "metadata": {},
   "source": [
    "# Preliminaries"
   ]
  },
  {
   "cell_type": "code",
   "execution_count": 1,
   "id": "02214a1a-d152-4d56-a600-ac26122a4226",
   "metadata": {},
   "outputs": [],
   "source": [
    "import torch\n",
    "import torch.nn as nn\n",
    "import matplotlib.pyplot as plt\n",
    "import numpy as np\n",
    "\n",
    "# Set device\n",
    "device = torch.device('cuda' if torch.cuda.is_available() else 'cpu')"
   ]
  },
  {
   "cell_type": "markdown",
   "id": "60d015e4-5e4e-4cb6-be45-2872bef324c2",
   "metadata": {},
   "source": [
    "# ActivationExtractor"
   ]
  },
  {
   "cell_type": "code",
   "execution_count": 2,
   "id": "59958f43-af37-4842-9335-bfc9d52bf476",
   "metadata": {},
   "outputs": [],
   "source": [
    "class ActivationExtractor:\n",
    "    \"\"\"Simple hook-based activation extractor\"\"\"\n",
    "    \n",
    "    def __init__(self, model):\n",
    "        self.model = model\n",
    "        self.activations = {}\n",
    "        self.hooks = []\n",
    "        \n",
    "    def register_hooks(self, layer_names=None):\n",
    "        \"\"\"Register hooks to extract activations\"\"\"\n",
    "        \n",
    "        def hook_fn(name):\n",
    "            def hook(module, input, output):\n",
    "                # Store activation (detach to save memory)\n",
    "                self.activations[name] = output.detach()\n",
    "            return hook\n",
    "        \n",
    "        # Hook all layers if none specified\n",
    "        if layer_names is None:\n",
    "            for name, module in self.model.named_modules():\n",
    "                if len(list(module.children())) == 0:  # Only leaf modules\n",
    "                    handle = module.register_forward_hook(hook_fn(name))\n",
    "                    self.hooks.append(handle)\n",
    "        else:\n",
    "            # Hook only specified layers\n",
    "            for name, module in self.model.named_modules():\n",
    "                if name in layer_names:\n",
    "                    handle = module.register_forward_hook(hook_fn(name))\n",
    "                    self.hooks.append(handle)\n",
    "    \n",
    "    def get_activations(self, x):\n",
    "        \"\"\"Run forward pass and return activations\"\"\"\n",
    "        self.activations = {}\n",
    "        with torch.no_grad():\n",
    "            _ = self.model(x)\n",
    "        return self.activations\n",
    "    \n",
    "    def clear_hooks(self):\n",
    "        \"\"\"Remove all hooks\"\"\"\n",
    "        for hook in self.hooks:\n",
    "            hook.remove()\n",
    "        self.hooks = []"
   ]
  },
  {
   "cell_type": "markdown",
   "id": "6e54451d-a8c6-4b9d-8f86-48c07e36c831",
   "metadata": {},
   "source": [
    "# visualizeActivations"
   ]
  },
  {
   "cell_type": "code",
   "execution_count": 9,
   "id": "12eb58b3-43b7-464e-a39c-99eb2727b702",
   "metadata": {},
   "outputs": [],
   "source": [
    "def visualize_activations(activations, sample_idx=0):\n",
    "    \"\"\"Simple visualization of activations\"\"\"\n",
    "    \n",
    "    # Filter out non-activations and get layer names\n",
    "    layer_names = [name for name in activations.keys() \n",
    "                   if len(activations[name].shape) >= 2]\n",
    "    \n",
    "    if not layer_names:\n",
    "        print(\"No suitable activations to visualize\")\n",
    "        return\n",
    "    \n",
    "    fig, axes = plt.subplots(1, len(layer_names), figsize=(15, 4))\n",
    "    if len(layer_names) == 1:\n",
    "        axes = [axes]\n",
    "    \n",
    "    for i, layer_name in enumerate(layer_names):\n",
    "        activation = activations[layer_name][sample_idx].cpu().numpy()\n",
    "        \n",
    "        if len(activation.shape) == 1:  # Fully connected layer\n",
    "            axes[i].bar(range(len(activation)), activation)\n",
    "            axes[i].set_title(f'{layer_name}\\n({len(activation)} units)')\n",
    "        else:  # Flatten for visualization\n",
    "            activation_flat = activation.flatten()\n",
    "            axes[i].bar(range(len(activation_flat)), activation_flat)\n",
    "            axes[i].set_title(f'{layer_name}\\n({activation.shape})')\n",
    "        \n",
    "        axes[i].set_xlabel('Unit')\n",
    "        axes[i].set_ylabel('Activation')\n",
    "    \n",
    "    plt.tight_layout()\n",
    "    plt.show()"
   ]
  },
  {
   "cell_type": "markdown",
   "id": "df70c998-d2c6-4cba-b97f-5a757fceb768",
   "metadata": {},
   "source": [
    "# main"
   ]
  },
  {
   "cell_type": "code",
   "execution_count": 4,
   "id": "14ee9010-a719-4231-ac24-fc0d9b75d15f",
   "metadata": {},
   "outputs": [],
   "source": [
    "def main():\n",
    "    print(\"Hook-based Activation Extraction Demo\")\n",
    "    print(\"=\" * 40)\n",
    "    \n",
    "    # Create a simple model\n",
    "    model = nn.Sequential(\n",
    "        nn.Linear(784, 256),\n",
    "        nn.ReLU(),\n",
    "        nn.Linear(256, 128),\n",
    "        nn.ReLU(),\n",
    "        nn.Linear(128, 64),\n",
    "        nn.ReLU(),\n",
    "        nn.Linear(64, 10)\n",
    "    ).to(device)\n",
    "    \n",
    "    # Create sample input\n",
    "    batch_size = 4\n",
    "    x = torch.randn(batch_size, 784).to(device)\n",
    "    \n",
    "    # Extract activations from all layers\n",
    "    print(\"\\n1. Extracting from all layers:\")\n",
    "    extractor = ActivationExtractor(model)\n",
    "    extractor.register_hooks()\n",
    "    \n",
    "    activations = extractor.get_activations(x)\n",
    "    \n",
    "    print(f\"Extracted activations from {len(activations)} layers:\")\n",
    "    for name, activation in activations.items():\n",
    "        print(f\"  {name}: {activation.shape}\")\n",
    "    \n",
    "    # Visualize activations\n",
    "    visualize_activations(activations)\n",
    "    \n",
    "    # Clear hooks\n",
    "    extractor.clear_hooks()\n",
    "    \n",
    "    # Extract from specific layers only\n",
    "    print(\"\\n2. Extracting from specific layers:\")\n",
    "    target_layers = ['0', '2', '4']  # Linear layers only\n",
    "    \n",
    "    extractor.register_hooks(target_layers)\n",
    "    activations_specific = extractor.get_activations(x)\n",
    "    \n",
    "    print(f\"Extracted activations from {len(activations_specific)} specific layers:\")\n",
    "    for name, activation in activations_specific.items():\n",
    "        print(f\"  {name}: {activation.shape}\")\n",
    "    \n",
    "    # Clean up\n",
    "    extractor.clear_hooks()\n",
    "    \n",
    "    # Training loop example\n",
    "    print(\"\\n3. Monitoring activations during training:\")\n",
    "    \n",
    "    # Simple training setup\n",
    "    optimizer = torch.optim.Adam(model.parameters(), lr=0.001)\n",
    "    criterion = nn.CrossEntropyLoss()\n",
    "    \n",
    "    # Register hooks for monitoring\n",
    "    extractor.register_hooks(['0', '2'])  # Monitor first two linear layers\n",
    "    \n",
    "    model.train()\n",
    "    for epoch in range(3):\n",
    "        # Dummy training data\n",
    "        train_x = torch.randn(8, 784).to(device)\n",
    "        train_y = torch.randint(0, 10, (8,)).to(device)\n",
    "        \n",
    "        optimizer.zero_grad()\n",
    "        \n",
    "        # Forward pass (hooks will capture activations)\n",
    "        output = model(train_x)\n",
    "        loss = criterion(output, train_y)\n",
    "        \n",
    "        # Get activations from this forward pass\n",
    "        epoch_activations = extractor.activations.copy()\n",
    "        \n",
    "        loss.backward()\n",
    "        optimizer.step()\n",
    "        \n",
    "        # Print activation statistics\n",
    "        print(f\"Epoch {epoch+1}: Loss = {loss.item():.4f}\")\n",
    "        for layer_name, activation in epoch_activations.items():\n",
    "            mean_act = activation.mean().item()\n",
    "            std_act = activation.std().item()\n",
    "            print(f\"  Layer {layer_name}: mean={mean_act:.4f}, std={std_act:.4f}\")\n",
    "    \n",
    "    # Final cleanup\n",
    "    extractor.clear_hooks()\n",
    "    \n",
    "    print(\"\\nDemo completed!\")"
   ]
  },
  {
   "cell_type": "markdown",
   "id": "afbb87ad-c5df-4074-9c83-bd567ef7d08b",
   "metadata": {},
   "source": [
    "# script"
   ]
  },
  {
   "cell_type": "code",
   "execution_count": 7,
   "id": "89a99a1f-4593-42f9-abae-9f4baa20aeb6",
   "metadata": {},
   "outputs": [
    {
     "name": "stdout",
     "output_type": "stream",
     "text": [
      "Hook-based Activation Extraction Demo\n",
      "========================================\n",
      "\n",
      "1. Extracting from all layers:\n",
      "Extracted activations from 7 layers:\n",
      "  0: torch.Size([4, 256])\n",
      "  1: torch.Size([4, 256])\n",
      "  2: torch.Size([4, 128])\n",
      "  3: torch.Size([4, 128])\n",
      "  4: torch.Size([4, 64])\n",
      "  5: torch.Size([4, 64])\n",
      "  6: torch.Size([4, 10])\n",
      "> \u001b[0;32m/var/folders/02/lb248q1j50dch2pthzkvxmpr0000gn/T/ipykernel_22289/2622517361.py\u001b[0m(20)\u001b[0;36mvisualize_activations\u001b[0;34m()\u001b[0m\n",
      "\u001b[0;32m     18 \u001b[0;31m        \u001b[0;32mimport\u001b[0m \u001b[0mpdb\u001b[0m\u001b[0;34m;\u001b[0m \u001b[0mpdb\u001b[0m\u001b[0;34m.\u001b[0m\u001b[0mset_trace\u001b[0m\u001b[0;34m(\u001b[0m\u001b[0;34m)\u001b[0m\u001b[0;34m\u001b[0m\u001b[0;34m\u001b[0m\u001b[0m\n",
      "\u001b[0m\u001b[0;32m     19 \u001b[0;31m\u001b[0;34m\u001b[0m\u001b[0m\n",
      "\u001b[0m\u001b[0;32m---> 20 \u001b[0;31m        \u001b[0;32mif\u001b[0m \u001b[0mlen\u001b[0m\u001b[0;34m(\u001b[0m\u001b[0mactivation\u001b[0m\u001b[0;34m.\u001b[0m\u001b[0mshape\u001b[0m\u001b[0;34m)\u001b[0m \u001b[0;34m==\u001b[0m \u001b[0;36m1\u001b[0m\u001b[0;34m:\u001b[0m  \u001b[0;31m# Fully connected layer\u001b[0m\u001b[0;34m\u001b[0m\u001b[0;34m\u001b[0m\u001b[0m\n",
      "\u001b[0m\u001b[0;32m     21 \u001b[0;31m            \u001b[0maxes\u001b[0m\u001b[0;34m[\u001b[0m\u001b[0mi\u001b[0m\u001b[0;34m]\u001b[0m\u001b[0;34m.\u001b[0m\u001b[0mbar\u001b[0m\u001b[0;34m(\u001b[0m\u001b[0mrange\u001b[0m\u001b[0;34m(\u001b[0m\u001b[0mlen\u001b[0m\u001b[0;34m(\u001b[0m\u001b[0mactivation\u001b[0m\u001b[0;34m)\u001b[0m\u001b[0;34m)\u001b[0m\u001b[0;34m,\u001b[0m \u001b[0mactivation\u001b[0m\u001b[0;34m)\u001b[0m\u001b[0;34m\u001b[0m\u001b[0;34m\u001b[0m\u001b[0m\n",
      "\u001b[0m\u001b[0;32m     22 \u001b[0;31m            \u001b[0maxes\u001b[0m\u001b[0;34m[\u001b[0m\u001b[0mi\u001b[0m\u001b[0;34m]\u001b[0m\u001b[0;34m.\u001b[0m\u001b[0mset_title\u001b[0m\u001b[0;34m(\u001b[0m\u001b[0;34mf'{layer_name}\\n({len(activation)} units)'\u001b[0m\u001b[0;34m)\u001b[0m\u001b[0;34m\u001b[0m\u001b[0;34m\u001b[0m\u001b[0m\n",
      "\u001b[0m\n"
     ]
    },
    {
     "name": "stdin",
     "output_type": "stream",
     "text": [
      "ipdb>  type(activation)\n"
     ]
    },
    {
     "name": "stdout",
     "output_type": "stream",
     "text": [
      "<class 'numpy.ndarray'>\n"
     ]
    },
    {
     "name": "stdin",
     "output_type": "stream",
     "text": [
      "ipdb>  np.shape(activation)\n"
     ]
    },
    {
     "name": "stdout",
     "output_type": "stream",
     "text": [
      "(256,)\n"
     ]
    },
    {
     "name": "stdin",
     "output_type": "stream",
     "text": [
      "ipdb>  layer_name\n"
     ]
    },
    {
     "name": "stdout",
     "output_type": "stream",
     "text": [
      "'0'\n"
     ]
    },
    {
     "name": "stdin",
     "output_type": "stream",
     "text": [
      "ipdb>  activation\n"
     ]
    },
    {
     "name": "stdout",
     "output_type": "stream",
     "text": [
      "array([ 0.48667106, -0.34640697, -0.02050027, -0.56694055, -0.32560855,\n",
      "        1.640818  ,  0.3095976 , -1.0149038 ,  0.7316845 , -0.6908151 ,\n",
      "        0.31477174, -0.71894854, -0.38442498,  0.56023264, -0.6251303 ,\n",
      "       -0.62393624, -0.17564805,  0.61784214, -0.5762552 , -0.39118424,\n",
      "        0.5418478 , -0.06612626,  0.08981118, -0.02635071,  0.34053484,\n",
      "       -0.3425464 ,  0.10200059,  0.16411082, -0.05007207, -0.8486165 ,\n",
      "        0.45117375, -0.6432961 , -0.22717294,  0.28775108, -0.52007043,\n",
      "        0.9758905 , -0.304382  ,  0.4307822 , -0.23092115,  1.4067222 ,\n",
      "        0.2868269 , -0.5087777 ,  0.62978953, -1.2135897 ,  0.2134247 ,\n",
      "       -1.6550059 , -0.03914067,  0.78608555, -0.9351507 ,  0.1218794 ,\n",
      "       -0.09329087, -0.14678362,  1.4799201 , -0.9298208 , -0.693838  ,\n",
      "        0.29421797,  0.09258362,  0.3393944 , -0.2513267 , -0.04175433,\n",
      "       -0.88560474,  0.58258164,  0.32514957,  0.20481758,  1.067699  ,\n",
      "       -0.32445073,  0.6224139 , -0.4642805 ,  0.46802542,  0.26112163,\n",
      "       -0.06133411,  0.00360145, -0.10066741, -0.39503998, -1.5255933 ,\n",
      "        0.38629472,  0.3848413 , -0.43391857, -0.15061077, -0.30795872,\n",
      "        0.6800601 , -0.12904672,  0.11260383,  0.01085416,  0.48697644,\n",
      "       -0.18979184, -0.13862312,  0.79418594, -0.4295099 , -0.17481123,\n",
      "       -0.70700294,  0.16250098, -1.0562518 ,  0.55875087,  0.18795507,\n",
      "       -0.21140945, -0.7009935 , -0.0856277 ,  0.12350233,  0.06776673,\n",
      "       -0.46094146,  0.44288135, -0.03413187,  0.54855907, -0.494951  ,\n",
      "        0.28395   ,  0.4682266 ,  0.31847224, -0.21410516,  0.2030421 ,\n",
      "       -0.47640905,  0.46845928, -0.1519244 , -0.25099778, -0.7976178 ,\n",
      "       -0.10440779, -0.19157784, -0.39223358, -0.9669073 ,  0.92018425,\n",
      "       -0.14710446,  0.03090324,  0.15801693, -0.28702536,  0.34197804,\n",
      "       -0.78885347, -0.49220595,  0.18582502, -0.6717126 , -0.2672088 ,\n",
      "        1.2379674 ,  0.9131556 ,  1.0337152 ,  1.5744185 ,  0.67955375,\n",
      "        0.5664652 , -0.46755838, -0.6229557 , -0.4699952 ,  0.696235  ,\n",
      "        0.05442745,  0.28683516, -0.7958469 , -0.13507278, -0.28219703,\n",
      "        0.7251376 ,  0.09605362, -0.08325367,  0.27550143,  0.18698774,\n",
      "       -0.9268885 ,  0.16573742, -0.09265921,  0.01216771, -0.74867827,\n",
      "       -0.33809525,  0.28753006, -0.45244557,  0.5035201 ,  1.139625  ,\n",
      "        0.4302333 , -0.05239971, -0.4097974 , -0.27302942,  0.14803804,\n",
      "        0.21110131,  0.7658496 ,  0.9308218 , -0.11742965, -0.3835337 ,\n",
      "        0.49149606, -0.33174393, -0.6201199 ,  0.1669761 , -0.06244792,\n",
      "        1.0981971 ,  0.2114741 ,  0.6182577 ,  0.12224308,  1.0571758 ,\n",
      "       -0.4254069 ,  1.3126255 ,  0.80218345,  0.8941399 , -0.16121335,\n",
      "       -0.1706113 , -0.17243758, -0.02185748, -0.937378  , -0.10532186,\n",
      "       -0.14676629,  0.610611  , -0.5188276 , -0.12457282, -0.02125099,\n",
      "        0.18238035, -0.34359366,  0.9482505 ,  0.46628675,  0.22983746,\n",
      "       -0.06851219,  0.33619228, -0.43772134, -0.24190979, -0.25516307,\n",
      "       -0.5081562 , -0.54173636,  0.5595768 , -0.36234343, -0.41607127,\n",
      "        0.01894191, -0.6746784 ,  0.28110135, -0.25305438, -0.49002156,\n",
      "       -0.36766097,  0.63094425,  0.06190957, -0.22067043, -0.39774582,\n",
      "        1.7423142 ,  1.3827343 ,  1.0273175 ,  0.04628241,  0.2745472 ,\n",
      "       -0.52557784, -0.49675545, -0.41659364, -0.66151124,  0.5926    ,\n",
      "        0.6535224 , -0.8925744 , -0.04877852,  1.016069  ,  1.0525486 ,\n",
      "        0.370167  ,  0.00936748,  0.3801048 , -0.4110876 , -0.05554533,\n",
      "        0.08412333,  0.16737035,  0.40536255,  0.30808234,  1.193408  ,\n",
      "       -0.6644726 , -0.36469516,  0.6532187 ,  0.52469796, -0.12622781,\n",
      "        0.14581864, -0.32379   , -0.0400786 , -0.35418224,  0.45820788,\n",
      "        0.20715894], dtype=float32)\n"
     ]
    },
    {
     "name": "stdin",
     "output_type": "stream",
     "text": [
      "ipdb>  c\n"
     ]
    },
    {
     "name": "stdout",
     "output_type": "stream",
     "text": [
      "> \u001b[0;32m/var/folders/02/lb248q1j50dch2pthzkvxmpr0000gn/T/ipykernel_22289/2622517361.py\u001b[0m(18)\u001b[0;36mvisualize_activations\u001b[0;34m()\u001b[0m\n",
      "\u001b[0;32m     16 \u001b[0;31m    \u001b[0;32mfor\u001b[0m \u001b[0mi\u001b[0m\u001b[0;34m,\u001b[0m \u001b[0mlayer_name\u001b[0m \u001b[0;32min\u001b[0m \u001b[0menumerate\u001b[0m\u001b[0;34m(\u001b[0m\u001b[0mlayer_names\u001b[0m\u001b[0;34m)\u001b[0m\u001b[0;34m:\u001b[0m\u001b[0;34m\u001b[0m\u001b[0;34m\u001b[0m\u001b[0m\n",
      "\u001b[0m\u001b[0;32m     17 \u001b[0;31m        \u001b[0mactivation\u001b[0m \u001b[0;34m=\u001b[0m \u001b[0mactivations\u001b[0m\u001b[0;34m[\u001b[0m\u001b[0mlayer_name\u001b[0m\u001b[0;34m]\u001b[0m\u001b[0;34m[\u001b[0m\u001b[0msample_idx\u001b[0m\u001b[0;34m]\u001b[0m\u001b[0;34m.\u001b[0m\u001b[0mcpu\u001b[0m\u001b[0;34m(\u001b[0m\u001b[0;34m)\u001b[0m\u001b[0;34m.\u001b[0m\u001b[0mnumpy\u001b[0m\u001b[0;34m(\u001b[0m\u001b[0;34m)\u001b[0m\u001b[0;34m\u001b[0m\u001b[0;34m\u001b[0m\u001b[0m\n",
      "\u001b[0m\u001b[0;32m---> 18 \u001b[0;31m        \u001b[0;32mimport\u001b[0m \u001b[0mpdb\u001b[0m\u001b[0;34m;\u001b[0m \u001b[0mpdb\u001b[0m\u001b[0;34m.\u001b[0m\u001b[0mset_trace\u001b[0m\u001b[0;34m(\u001b[0m\u001b[0;34m)\u001b[0m\u001b[0;34m\u001b[0m\u001b[0;34m\u001b[0m\u001b[0m\n",
      "\u001b[0m\u001b[0;32m     19 \u001b[0;31m\u001b[0;34m\u001b[0m\u001b[0m\n",
      "\u001b[0m\u001b[0;32m     20 \u001b[0;31m        \u001b[0;32mif\u001b[0m \u001b[0mlen\u001b[0m\u001b[0;34m(\u001b[0m\u001b[0mactivation\u001b[0m\u001b[0;34m.\u001b[0m\u001b[0mshape\u001b[0m\u001b[0;34m)\u001b[0m \u001b[0;34m==\u001b[0m \u001b[0;36m1\u001b[0m\u001b[0;34m:\u001b[0m  \u001b[0;31m# Fully connected layer\u001b[0m\u001b[0;34m\u001b[0m\u001b[0;34m\u001b[0m\u001b[0m\n",
      "\u001b[0m\n"
     ]
    },
    {
     "name": "stdin",
     "output_type": "stream",
     "text": [
      "ipdb>  np.shape(activation)\n"
     ]
    },
    {
     "name": "stdout",
     "output_type": "stream",
     "text": [
      "(256,)\n"
     ]
    },
    {
     "name": "stdin",
     "output_type": "stream",
     "text": [
      "ipdb>  activation\n"
     ]
    },
    {
     "name": "stdout",
     "output_type": "stream",
     "text": [
      "array([0.48667106, 0.        , 0.        , 0.        , 0.        ,\n",
      "       1.640818  , 0.3095976 , 0.        , 0.7316845 , 0.        ,\n",
      "       0.31477174, 0.        , 0.        , 0.56023264, 0.        ,\n",
      "       0.        , 0.        , 0.61784214, 0.        , 0.        ,\n",
      "       0.5418478 , 0.        , 0.08981118, 0.        , 0.34053484,\n",
      "       0.        , 0.10200059, 0.16411082, 0.        , 0.        ,\n",
      "       0.45117375, 0.        , 0.        , 0.28775108, 0.        ,\n",
      "       0.9758905 , 0.        , 0.4307822 , 0.        , 1.4067222 ,\n",
      "       0.2868269 , 0.        , 0.62978953, 0.        , 0.2134247 ,\n",
      "       0.        , 0.        , 0.78608555, 0.        , 0.1218794 ,\n",
      "       0.        , 0.        , 1.4799201 , 0.        , 0.        ,\n",
      "       0.29421797, 0.09258362, 0.3393944 , 0.        , 0.        ,\n",
      "       0.        , 0.58258164, 0.32514957, 0.20481758, 1.067699  ,\n",
      "       0.        , 0.6224139 , 0.        , 0.46802542, 0.26112163,\n",
      "       0.        , 0.00360145, 0.        , 0.        , 0.        ,\n",
      "       0.38629472, 0.3848413 , 0.        , 0.        , 0.        ,\n",
      "       0.6800601 , 0.        , 0.11260383, 0.01085416, 0.48697644,\n",
      "       0.        , 0.        , 0.79418594, 0.        , 0.        ,\n",
      "       0.        , 0.16250098, 0.        , 0.55875087, 0.18795507,\n",
      "       0.        , 0.        , 0.        , 0.12350233, 0.06776673,\n",
      "       0.        , 0.44288135, 0.        , 0.54855907, 0.        ,\n",
      "       0.28395   , 0.4682266 , 0.31847224, 0.        , 0.2030421 ,\n",
      "       0.        , 0.46845928, 0.        , 0.        , 0.        ,\n",
      "       0.        , 0.        , 0.        , 0.        , 0.92018425,\n",
      "       0.        , 0.03090324, 0.15801693, 0.        , 0.34197804,\n",
      "       0.        , 0.        , 0.18582502, 0.        , 0.        ,\n",
      "       1.2379674 , 0.9131556 , 1.0337152 , 1.5744185 , 0.67955375,\n",
      "       0.5664652 , 0.        , 0.        , 0.        , 0.696235  ,\n",
      "       0.05442745, 0.28683516, 0.        , 0.        , 0.        ,\n",
      "       0.7251376 , 0.09605362, 0.        , 0.27550143, 0.18698774,\n",
      "       0.        , 0.16573742, 0.        , 0.01216771, 0.        ,\n",
      "       0.        , 0.28753006, 0.        , 0.5035201 , 1.139625  ,\n",
      "       0.4302333 , 0.        , 0.        , 0.        , 0.14803804,\n",
      "       0.21110131, 0.7658496 , 0.9308218 , 0.        , 0.        ,\n",
      "       0.49149606, 0.        , 0.        , 0.1669761 , 0.        ,\n",
      "       1.0981971 , 0.2114741 , 0.6182577 , 0.12224308, 1.0571758 ,\n",
      "       0.        , 1.3126255 , 0.80218345, 0.8941399 , 0.        ,\n",
      "       0.        , 0.        , 0.        , 0.        , 0.        ,\n",
      "       0.        , 0.610611  , 0.        , 0.        , 0.        ,\n",
      "       0.18238035, 0.        , 0.9482505 , 0.46628675, 0.22983746,\n",
      "       0.        , 0.33619228, 0.        , 0.        , 0.        ,\n",
      "       0.        , 0.        , 0.5595768 , 0.        , 0.        ,\n",
      "       0.01894191, 0.        , 0.28110135, 0.        , 0.        ,\n",
      "       0.        , 0.63094425, 0.06190957, 0.        , 0.        ,\n",
      "       1.7423142 , 1.3827343 , 1.0273175 , 0.04628241, 0.2745472 ,\n",
      "       0.        , 0.        , 0.        , 0.        , 0.5926    ,\n",
      "       0.6535224 , 0.        , 0.        , 1.016069  , 1.0525486 ,\n",
      "       0.370167  , 0.00936748, 0.3801048 , 0.        , 0.        ,\n",
      "       0.08412333, 0.16737035, 0.40536255, 0.30808234, 1.193408  ,\n",
      "       0.        , 0.        , 0.6532187 , 0.52469796, 0.        ,\n",
      "       0.14581864, 0.        , 0.        , 0.        , 0.45820788,\n",
      "       0.20715894], dtype=float32)\n"
     ]
    },
    {
     "name": "stdin",
     "output_type": "stream",
     "text": [
      "ipdb>  layer_name\n"
     ]
    },
    {
     "name": "stdout",
     "output_type": "stream",
     "text": [
      "'1'\n"
     ]
    },
    {
     "name": "stdin",
     "output_type": "stream",
     "text": [
      "ipdb>  exit\n"
     ]
    },
    {
     "data": {
      "image/png": "[encoded data removed]",
      "text/plain": [
       "<Figure size 1500x400 with 7 Axes>"
      ]
     },
     "metadata": {},
     "output_type": "display_data"
    }
   ],
   "source": [
    "main()\n",
    "\n",
    "print(\"\\n\" + \"=\" * 50)\n",
    "print(\"HOOK-BASED ACTIVATION EXTRACTION SUMMARY\")\n",
    "print(\"=\" * 50)\n",
    "print(\"1. Create ActivationExtractor with your model\")\n",
    "print(\"2. Register hooks with register_hooks()\")\n",
    "print(\"3. Run get_activations(input) to extract\")\n",
    "print(\"4. Always call clear_hooks() when done\")\n",
    "print(\"\\nKey benefits:\")\n",
    "print(\"- Works with any PyTorch model\")\n",
    "print(\"- No model modification needed\")\n",
    "print(\"- Can target specific layers\")\n",
    "print(\"- Memory efficient with detach()\")"
   ]
  }
 ],
 "metadata": {
  "kernelspec": {
   "display_name": "Python 3 (ipykernel)",
   "language": "python",
   "name": "python3"
  },
  "language_info": {
   "codemirror_mode": {
    "name": "ipython",
    "version": 3
   },
   "file_extension": ".py",
   "mimetype": "text/x-python",
   "name": "python",
   "nbconvert_exporter": "python",
   "pygments_lexer": "ipython3",
   "version": "3.9.6"
  }
 },
 "nbformat": 4,
 "nbformat_minor": 5
}
