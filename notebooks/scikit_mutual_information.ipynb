{
 "cells": [
  {
   "cell_type": "code",
   "execution_count": 1,
   "metadata": {
    "id": "gTA9_dudCtGA"
   },
   "outputs": [],
   "source": [
    "import numpy as np\n",
    "from sklearn.feature_selection import mutual_info_regression"
   ]
  },
  {
   "cell_type": "markdown",
   "metadata": {
    "id": "lMtNWKI6Eq9N"
   },
   "source": [
    "# Continuous multivariate distributions"
   ]
  },
  {
   "cell_type": "code",
   "execution_count": 2,
   "metadata": {
    "colab": {
     "base_uri": "https://localhost:8080/"
    },
    "id": "e73795d5",
    "outputId": "24df9180-5ded-435d-b327-bc6bdf2d898a"
   },
   "outputs": [
    {
     "name": "stdout",
     "output_type": "stream",
     "text": [
      "Mutual Information between X and y1: [0.74814586 0.21753465 0.        ]\n",
      "Mutual Information between X and y2: [0.18840764 0.83141394 0.02181982]\n"
     ]
    }
   ],
   "source": [
    "\n",
    "# Generate synthetic data for two multivariate distributions\n",
    "#np.random.seed(42)\n",
    "num_sample = 500\n",
    "X = np.random.rand(num_sample, 3)  # First distribution with 3 features\n",
    "y1 = 2*X[:, 0] + X[:, 1] + np.random.randn(num_sample) * 0.1 # Second distribution (dependent on X)\n",
    "y2 = X[:, 0] + 2*X[:, 1] + np.random.randn(num_sample) * 0.1 # Second distribution (dependent on X)\n",
    "\n",
    "# Calculate mutual information between X and y\n",
    "mi1 = mutual_info_regression(X, y1)\n",
    "mi2 = mutual_info_regression(X, y2)\n",
    "\n",
    "print(\"Mutual Information between X and y1:\", mi1)\n",
    "print(\"Mutual Information between X and y2:\", mi2)"
   ]
  },
  {
   "cell_type": "code",
   "execution_count": 3,
   "metadata": {
    "colab": {
     "base_uri": "https://localhost:8080/"
    },
    "id": "3OlWyq86Mj71",
    "outputId": "950f9ec9-ad2f-41e4-8164-c574d307fe2b"
   },
   "outputs": [
    {
     "name": "stdout",
     "output_type": "stream",
     "text": [
      "0.8536437053440342\n"
     ]
    }
   ],
   "source": [
    "# Generalize the foregoing to multidimensional dependent variables\n",
    "def mi_regression(independent_arr:np.ndarray, dependent_arr:np.ndarray)->float:\n",
    "    \"\"\"\n",
    "    Calculate the mutual information between a set of independent variables and a dependent variable.\n",
    "\n",
    "    Args:\n",
    "        independent_arr (np.ndarray): An array of independent variables.\n",
    "        dependent_arr (np.ndarray): An array of dependent variables.\n",
    "\n",
    "    Returns:\n",
    "        float: The mutual information between the independent variables and the dependent variable.\n",
    "    \"\"\"\n",
    "    mis = []\n",
    "    for y in dependent_arr.T:\n",
    "        mis.append(mutual_info_regression(independent_arr, y))\n",
    "    return np.max(mis)\n",
    "##\n",
    "# Generate synthetic data for two multivariate distributions\n",
    "#np.random.seed(42)\n",
    "num_sample = 500\n",
    "X = np.random.rand(num_sample, 3)  # First distribution with 3 features\n",
    "y1 = 2*X[:, 0] + X[:, 1] + np.random.randn(num_sample) * 0.1 # Second distribution (dependent on X)\n",
    "y2 = X[:, 0] + 2*X[:, 1] + np.random.randn(num_sample) * 0.1 # Second distribution (dependent on X)\n",
    "dependent_arr = np.hstack([y1.reshape(-1,1), y2.reshape(-1,1)])\n",
    "# Calculate mutual information\n",
    "mi = mi_regression(X, dependent_arr)\n",
    "print(mi)"
   ]
  },
  {
   "cell_type": "markdown",
   "metadata": {
    "id": "HNcdEOrLFniz"
   },
   "source": [
    "# Dependent variable is discrete"
   ]
  },
  {
   "cell_type": "code",
   "execution_count": 4,
   "metadata": {
    "colab": {
     "base_uri": "https://localhost:8080/"
    },
    "id": "eFniDEAXFGt3",
    "outputId": "f8b2fca8-69e1-45d4-8613-107730f4bef9"
   },
   "outputs": [
    {
     "name": "stdout",
     "output_type": "stream",
     "text": [
      "Mutual Information between X and binary y: [0.04570333 0.37068263 0.03525839]\n"
     ]
    }
   ],
   "source": [
    "# Generate synthetic data for two multivariate distributions\n",
    "np.random.seed(42)\n",
    "X = np.random.rand(100, 3)  # First distribution with 3 features\n",
    "y = np.array([1 if 0.5*x[0] + 1*x[1] > 0.4 else 0 for x in X])\n",
    "\n",
    "# Calculate mutual information between X and y\n",
    "mi = mutual_info_regression(X, y)\n",
    "\n",
    "print(\"Mutual Information between X and binary y:\", mi)"
   ]
  }
 ],
 "metadata": {
  "colab": {
   "provenance": []
  },
  "kernelspec": {
   "display_name": "Python 3 (ipykernel)",
   "language": "python",
   "name": "python3"
  },
  "language_info": {
   "codemirror_mode": {
    "name": "ipython",
    "version": 3
   },
   "file_extension": ".py",
   "mimetype": "text/x-python",
   "name": "python",
   "nbconvert_exporter": "python",
   "pygments_lexer": "ipython3",
   "version": "3.9.6"
  }
 },
 "nbformat": 4,
 "nbformat_minor": 4
}
