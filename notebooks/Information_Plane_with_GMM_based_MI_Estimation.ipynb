{
 "cells": [
  {
   "cell_type": "markdown",
   "metadata": {},
   "source": [
    "# INFORMATION PLANE"
   ]
  },
  {
   "cell_type": "code",
   "execution_count": 1,
   "metadata": {},
   "outputs": [],
   "source": [
    "import torch\n",
    "import torch.nn as nn\n",
    "import torch.optim as optim\n",
    "import numpy as np\n",
    "import matplotlib.pyplot as plt\n",
    "from sklearn.model_selection import train_test_split\n",
    "from sklearn.mixture import GaussianMixture # <-- Using sklearn for GMMs\n",
    "from scipy.special import logsumexp # For GMM entropy calculation (though score_samples is used)\n",
    "from typing import List\n",
    "import collections\n",
    "from scipy.stats import norm"
   ]
  },
  {
   "cell_type": "markdown",
   "metadata": {},
   "source": [
    "# Helpers"
   ]
  },
  {
   "cell_type": "code",
   "execution_count": 20,
   "metadata": {},
   "outputs": [
    {
     "name": "stdout",
     "output_type": "stream",
     "text": [
      "OK!\n"
     ]
    }
   ],
   "source": [
    "import time\n",
    "import pandas as pd\n",
    "class Timer(object):\n",
    "    def __init__(self):\n",
    "        self.last_time = time.time()\n",
    "        self.dct = {}\n",
    "\n",
    "    def add(self, name):\n",
    "        if not name in self.dct.keys():\n",
    "            self.dct[name] = []\n",
    "        cur_time = time.time()\n",
    "        self.dct[name].append(cur_time - self.last_time)\n",
    "        self.last_time = cur_time\n",
    "\n",
    "    def report(self)->pd.DataFrame:\n",
    "        result_dct = {'name': [], 'count': [], 'total': []}\n",
    "        for name, values in self.dct.items():\n",
    "            result_dct['name'].append(name)\n",
    "            result_dct['total'].append(np.sum(values))\n",
    "            result_dct['count'].append(len(values))\n",
    "        return pd.DataFrame(result_dct)\n",
    "        \n",
    "        \n",
    "# TESTS\n",
    "timer = Timer()\n",
    "timer.add('first')\n",
    "time.sleep(1)\n",
    "timer.add('second')\n",
    "timer.add('first')\n",
    "timer.add('second')\n",
    "df = timer.report()\n",
    "assert(isinstance(df, pd.DataFrame))\n",
    "assert(df.loc[0, 'total'] < 0.1)\n",
    "assert(df.loc[1, 'total'] > 1)\n",
    "print(\"OK!\")"
   ]
  },
  {
   "cell_type": "code",
   "execution_count": 105,
   "metadata": {},
   "outputs": [
    {
     "name": "stdout",
     "output_type": "stream",
     "text": [
      "OK!\n"
     ]
    }
   ],
   "source": [
    "def calculateNormalPdf(x, mu, sigma):\n",
    "    \"\"\"\n",
    "    Calculates the probability density function (PDF) of a normal distribution.\n",
    "\n",
    "    Args:\n",
    "        x (numpy.ndarray or float): The value(s) at which to evaluate the PDF.\n",
    "        mu (float): The mean of the normal distribution.\n",
    "        sigma (float): The standard deviation of the normal distribution.\n",
    "\n",
    "    Returns:\n",
    "        numpy.ndarray or float: The probability density at x.\n",
    "    \"\"\"\n",
    "    if sigma <= 0:\n",
    "        raise ValueError(\"Standard deviation (sigma) must be positive.\")\n",
    "\n",
    "    coefficient = 1 / (sigma * np.sqrt(2 * np.pi))\n",
    "    exponent = -((x - mu)**2) / (2 * sigma**2)\n",
    "    pdf_value = coefficient * np.exp(exponent)\n",
    "    return pdf_value\n",
    "\n",
    "# Tests\n",
    "prob = np.sum([calculateNormalPdf(-n/100, 0, 1) for n in range(1, 5000)])/100\n",
    "assert((0.5 - prob) < 0.01)\n",
    "print(\"OK!\")"
   ]
  },
  {
   "cell_type": "code",
   "execution_count": 181,
   "metadata": {},
   "outputs": [
    {
     "name": "stdout",
     "output_type": "stream",
     "text": [
      "> \u001b[0;32m/var/folders/02/lb248q1j50dch2pthzkvxmpr0000gn/T/ipykernel_68408/1207757695.py\u001b[0m(11)\u001b[0;36mcalculateNormalEntropy\u001b[0;34m()\u001b[0m\n",
      "\u001b[0;32m      9 \u001b[0;31m    \u001b[0mdx\u001b[0m \u001b[0;34m=\u001b[0m \u001b[0mnp\u001b[0m\u001b[0;34m.\u001b[0m\u001b[0mmean\u001b[0m\u001b[0;34m(\u001b[0m\u001b[0mnp\u001b[0m\u001b[0;34m.\u001b[0m\u001b[0mdiff\u001b[0m\u001b[0;34m(\u001b[0m\u001b[0mrange_arr\u001b[0m\u001b[0;34m)\u001b[0m\u001b[0;34m)\u001b[0m\u001b[0;34m\u001b[0m\u001b[0;34m\u001b[0m\u001b[0m\n",
      "\u001b[0m\u001b[0;32m     10 \u001b[0;31m    \u001b[0;32mimport\u001b[0m \u001b[0mpdb\u001b[0m\u001b[0;34m;\u001b[0m \u001b[0mpdb\u001b[0m\u001b[0;34m.\u001b[0m\u001b[0mset_trace\u001b[0m\u001b[0;34m(\u001b[0m\u001b[0;34m)\u001b[0m\u001b[0;34m\u001b[0m\u001b[0;34m\u001b[0m\u001b[0m\n",
      "\u001b[0m\u001b[0;32m---> 11 \u001b[0;31m    \u001b[0mpdf_arr\u001b[0m \u001b[0;34m=\u001b[0m \u001b[0mnorm\u001b[0m\u001b[0;34m.\u001b[0m\u001b[0mpdf\u001b[0m\u001b[0;34m(\u001b[0m\u001b[0mrange_arr\u001b[0m\u001b[0;34m,\u001b[0m \u001b[0mloc\u001b[0m\u001b[0;34m=\u001b[0m\u001b[0mmu\u001b[0m\u001b[0;34m,\u001b[0m \u001b[0mscale\u001b[0m\u001b[0;34m=\u001b[0m\u001b[0msigma\u001b[0m\u001b[0;34m)\u001b[0m\u001b[0;34m\u001b[0m\u001b[0;34m\u001b[0m\u001b[0m\n",
      "\u001b[0m\u001b[0;32m     12 \u001b[0;31m    \u001b[0;32mreturn\u001b[0m \u001b[0;34m-\u001b[0m\u001b[0mnp\u001b[0m\u001b[0;34m.\u001b[0m\u001b[0msum\u001b[0m\u001b[0;34m(\u001b[0m\u001b[0;34m[\u001b[0m\u001b[0mx\u001b[0m\u001b[0;34m*\u001b[0m\u001b[0mnp\u001b[0m\u001b[0;34m.\u001b[0m\u001b[0mlog2\u001b[0m\u001b[0;34m(\u001b[0m\u001b[0mx\u001b[0m\u001b[0;34m)\u001b[0m\u001b[0;34m*\u001b[0m\u001b[0mdx\u001b[0m \u001b[0;32mfor\u001b[0m \u001b[0mx\u001b[0m \u001b[0;32min\u001b[0m \u001b[0mpdf_arr\u001b[0m\u001b[0;34m]\u001b[0m\u001b[0;34m)\u001b[0m\u001b[0;34m,\u001b[0m \u001b[0mexpected_entropy\u001b[0m\u001b[0;34m\u001b[0m\u001b[0;34m\u001b[0m\u001b[0m\n",
      "\u001b[0m\u001b[0;32m     13 \u001b[0;31m\u001b[0;34m\u001b[0m\u001b[0m\n",
      "\u001b[0m\n"
     ]
    },
    {
     "name": "stdin",
     "output_type": "stream",
     "text": [
      "ipdb>  expected_entropy\n"
     ]
    },
    {
     "name": "stdout",
     "output_type": "stream",
     "text": [
      "2.047095585180641\n"
     ]
    },
    {
     "name": "stdin",
     "output_type": "stream",
     "text": [
      "ipdb>  c\n"
     ]
    },
    {
     "data": {
      "text/plain": [
       "(2.0470863686536873, 2.047095585180641)"
      ]
     },
     "execution_count": 181,
     "metadata": {},
     "output_type": "execute_result"
    }
   ],
   "source": [
    "def calculateNormalEntropy(mu:float, sigma:float)->float:\n",
    "    \"\"\"\n",
    "    Calculates the entropy of a sample from the normal distribution\n",
    "    \"\"\"\n",
    "    # expected_entropy = 1/2*np.log2(2*np.pi*np.e*sigma)\n",
    "    num_sample = 100\n",
    "    # Range of the x-axis\n",
    "    range_arr =  np.linspace(mu - 5*sigma, mu + 5*sigma, num_sample)\n",
    "    dx = np.mean(np.diff(range_arr))\n",
    "    pdf_arr = norm.pdf(range_arr, loc=mu, scale=sigma)\n",
    "    return -np.sum([x*np.log2(x)*dx for x in pdf_arr])\n",
    "\n",
    "# Tests\n",
    "calculateNormalEntropy(0, 1)"
   ]
  },
  {
   "cell_type": "code",
   "execution_count": 176,
   "metadata": {},
   "outputs": [
    {
     "data": {
      "text/plain": [
       "0.9998994282396685"
      ]
     },
     "execution_count": 176,
     "metadata": {},
     "output_type": "execute_result"
    }
   ],
   "source": [
    "from scipy.stats import norm\n",
    "\n",
    "num_sample = 10000\n",
    "mu = 0\n",
    "sigma = 1\n",
    "range_arr =  np.linspace(mu - 5*sigma, mu + 5*sigma, num_sample)\n",
    "pdf_arr = norm.pdf(range_arr, loc=mu, scale=sigma)\n",
    "dx = 10*sigma/num_sample\n",
    "sum(x*dx for x in pdf_arr)"
   ]
  },
  {
   "cell_type": "code",
   "execution_count": 172,
   "metadata": {},
   "outputs": [
    {
     "data": {
      "image/png": "[encoded data removed]",
      "text/plain": [
       "<Figure size 800x500 with 1 Axes>"
      ]
     },
     "metadata": {},
     "output_type": "display_data"
    }
   ],
   "source": [
    "\n",
    "# Plot the PDF\n",
    "plt.figure(figsize=(8, 5))\n",
    "plt.plot(range_arr, pdf_arr, label=f'Normal PDF (μ={mu}, σ={sigma})')\n",
    "plt.title('Probability Density Function of a Normal Distribution')\n",
    "plt.xlabel('X')\n",
    "plt.ylabel('Probability Density')\n",
    "plt.grid(True)\n",
    "plt.legend()\n",
    "plt.show()"
   ]
  },
  {
   "cell_type": "markdown",
   "metadata": {},
   "source": [
    "# Code from Gemini"
   ]
  },
  {
   "cell_type": "markdown",
   "metadata": {},
   "source": [
    "### generate_synthetic_data"
   ]
  },
  {
   "cell_type": "code",
   "execution_count": 3,
   "metadata": {},
   "outputs": [],
   "source": [
    "# --- 1. Synthetic Data Generation ---\n",
    "def generate_synthetic_data(num_samples, slope, intercept, noise_std, classification_threshold):\n",
    "    \"\"\"\n",
    "    Generates synthetic data for a binary classification task.\n",
    "    Input X: Uniform(0, 1)\n",
    "    Continuous Y: slope * X + intercept + Gaussian_noise\n",
    "    Binary Y: 1 if Continuous Y > classification_threshold, else 0\n",
    "    \"\"\"\n",
    "    #X = np.random.uniform(0, 1, num_samples)\n",
    "    num_half_samples = int(num_samples/2)\n",
    "    X1 = np.random.normal(100, 10, num_half_samples)\n",
    "    X2 = np.random.normal(200, 10, num_half_samples)\n",
    "    X = np.concatenate([X1, X2])\n",
    "    noise = np.random.normal(0, noise_std, num_samples)\n",
    "    Y_continuous = slope * X + intercept + noise\n",
    "    Y_binary = (Y_continuous > classification_threshold).astype(int)\n",
    "\n",
    "    # Reshape for PyTorch compatibility (add feature dimension)\n",
    "    X_tensor = torch.tensor(X, dtype=torch.float32).unsqueeze(1)\n",
    "    Y_tensor = torch.tensor(Y_binary, dtype=torch.float32).unsqueeze(1)\n",
    "    return X_tensor, Y_tensor, X, Y_binary # Return numpy arrays for MI estimation\n"
   ]
  },
  {
   "cell_type": "code",
   "execution_count": 82,
   "metadata": {},
   "outputs": [
    {
     "name": "stdout",
     "output_type": "stream",
     "text": [
      "OK!\n"
     ]
    }
   ],
   "source": [
    "# --- 1. Synthetic Data Generation ---\n",
    "def deprecated_generate_mixture(num_samples:List[int], means:List[float], stds:List[float],\n",
    "        precision:int=2)->np.ndarray:\n",
    "    \"\"\"\n",
    "    Generates synthetic data for a binary classification task. \n",
    "\n",
    "    Args:\n",
    "        num_sample (int): number of samples in the n-th mixture\n",
    "        means (float): mean of the n-th mixture\n",
    "        std (float): standard deviation of the n-th mixture\n",
    "        precision (int): number of decimal points to consider in the generate numbers\n",
    "    Returns:\n",
    "        np.array (num_sample, 1), int. total count is = sum(num_samples)\n",
    "    \"\"\"\n",
    "    results = [np.random.normal(m, s, n) for n, m, s in zip(num_samples, means, stds)]\n",
    "    merged_arr =  np.array([int(v) for v in (10**precision)*np.concatenate(results)])\n",
    "    return np.random.permutation(merged_arr).reshape(-1, 1)\n",
    "\n",
    "# Tests\n",
    "precision = 2\n",
    "num_sample1 = 5\n",
    "arr = deprecated_generate_mixture([num_sample1, 10], (0.1, 100), (.01, 10), precision=precision)\n",
    "assert(np.ndim(arr) == 2)\n",
    "assert(np.sum(arr < 500)) == num_sample1\n",
    "print(\"OK!\")"
   ]
  },
  {
   "cell_type": "code",
   "execution_count": 91,
   "metadata": {},
   "outputs": [
    {
     "name": "stdout",
     "output_type": "stream",
     "text": [
      "OK!\n"
     ]
    }
   ],
   "source": [
    "# --- 1. Synthetic Data Generation ---\n",
    "def generateMixture(num_samples:List[int], means:List[float], stds:List[float])->np.ndarray:\n",
    "    \"\"\"\n",
    "    Generates synthetic data for a binary classification task. \n",
    "\n",
    "    Args:\n",
    "        num_sample (int): number of samples in the n-th mixture\n",
    "        means (float): mean of the n-th mixture\n",
    "        std (float): standard deviation of the n-th mixture\n",
    "    Returns:\n",
    "        np.array (num_sample, 1), int. total count is = sum(num_samples)\n",
    "    \"\"\"\n",
    "    results = [np.random.normal(m, s, n) for n, m, s in zip(num_samples, means, stds)]\n",
    "    merged_arr = np.concatenate(results)\n",
    "    return np.random.permutation(merged_arr).reshape(-1, 1)\n",
    "\n",
    "# Tests\n",
    "precision = 2\n",
    "num_sample1 = 3\n",
    "small_mean = 0.1\n",
    "arr = generateMixture([num_sample1, 5], (small_mean, 100), (.01, 10))\n",
    "assert(np.ndim(arr) == 2)\n",
    "assert(np.sum(arr < 10*small_mean)) == num_sample1\n",
    "print(\"OK!\")"
   ]
  },
  {
   "cell_type": "code",
   "execution_count": null,
   "metadata": {},
   "outputs": [],
   "source": []
  },
  {
   "cell_type": "markdown",
   "metadata": {},
   "source": [
    "### SimpleNN"
   ]
  },
  {
   "cell_type": "code",
   "execution_count": 5,
   "metadata": {},
   "outputs": [],
   "source": [
    "# --- 2. Neural Network Architecture ---\n",
    "class SimpleNN(nn.Module):\n",
    "    def __init__(self, input_dim, hidden_dims, output_dim):\n",
    "        super(SimpleNN, self).__init__()\n",
    "        layers = []\n",
    "        # Store activations *after* ReLU for Information Plane\n",
    "        self.linear_layers = nn.ModuleList()\n",
    "        self.relu_layers = nn.ModuleList()\n",
    "\n",
    "        # Input layer to first hidden layer\n",
    "        self.linear_layers.append(nn.Linear(input_dim, hidden_dims[0]))\n",
    "        self.relu_layers.append(nn.ReLU())\n",
    "\n",
    "        # Hidden layers. Specifying the dimensions for each layer.\n",
    "        for i in range(len(hidden_dims) - 1):\n",
    "            self.linear_layers.append(nn.Linear(hidden_dims[i], hidden_dims[i+1]))\n",
    "            self.relu_layers.append(nn.ReLU())\n",
    "\n",
    "        # Output layer (no ReLU before sigmoid)\n",
    "        self.output_layer = nn.Linear(hidden_dims[-1], output_dim)\n",
    "        self.sigmoid = nn.Sigmoid()\n",
    "\n",
    "        self.activations = {} # To store activations for information plane\n",
    "\n",
    "    def forward(self, x):\n",
    "        # Store input x for I(X;T)\n",
    "        self.activations['input'] = x.detach().cpu().numpy()\n",
    "        current_activation = x\n",
    "        for i, (linear_layer, relu_layer) in enumerate(zip(self.linear_layers, self.relu_layers)):\n",
    "            current_activation = linear_layer(current_activation)\n",
    "            current_activation = relu_layer(current_activation)\n",
    "            # Store the activation after ReLU\n",
    "            self.activations[f'hidden_{i}'] = current_activation.detach().cpu().numpy()\n",
    "\n",
    "        output = self.output_layer(current_activation)\n",
    "        output = self.sigmoid(output)\n",
    "        return output"
   ]
  },
  {
   "cell_type": "markdown",
   "metadata": {},
   "source": [
    "### calculateEntropy"
   ]
  },
  {
   "cell_type": "code",
   "execution_count": 300,
   "metadata": {},
   "outputs": [
    {
     "name": "stdout",
     "output_type": "stream",
     "text": [
      "OK!\n"
     ]
    }
   ],
   "source": [
    "def calculateGaussianMixtureEntropy(means:List[float], stds:List[float], weights:List[float])->float:\n",
    "    \"\"\"\n",
    "    Uses the normal distribut to calculate the expected entropy of a guassian mixture.\n",
    "\n",
    "    Args:\n",
    "        means: distribution of the means\n",
    "        stds: variances of the distributions\n",
    "        weights: weight of component\n",
    "\n",
    "    Returns:\n",
    "        float - entropy\n",
    "    \"\"\"\n",
    "    NUM_POINT =1000\n",
    "    EXTREME_SIGMA = 4\n",
    "    mean_arr = np.array(means)\n",
    "    std_arr = np.array(stds)\n",
    "    weight_arr = np.array(weights)\n",
    "    #\n",
    "    # Calculate the range for the x-variate\n",
    "    lower_bound = min([m - EXTREME_SIGMA*s for m, s in zip(mean_arr, std_arr)])\n",
    "    upper_bound = max([m + EXTREME_SIGMA*s for m, s in zip(mean_arr, std_arr)])\n",
    "    variate_arr = np.linspace(lower_bound, upper_bound, NUM_POINT)\n",
    "    dx = np.mean(np.diff(variate_arr))\n",
    "    # Calculate the PDFs\n",
    "    pdf_arr = np.zeros(NUM_POINT)\n",
    "    for mean, std, weight in zip(mean_arr, std_arr, weight_arr):\n",
    "        pdf_arr += weight*norm.pdf(variate_arr, loc=mean, scale=std)\n",
    "    # Entropy\n",
    "    Hx = -sum(pdf_arr*np.log2(pdf_arr))*dx\n",
    "    #\n",
    "    return Hx\n",
    "\n",
    "# Tests\n",
    "#   Guassian\n",
    "for std in [1, 2, 4, 8]:\n",
    "    actual = 0.5*np.log2(2*np.pi*np.e*std**2)\n",
    "    estimated = calculateGaussianMixtureEntropy([0], [std], [1])\n",
    "    #print(actual, estimated)\n",
    "    assert(np.abs(actual - estimated) < 0.01)\n",
    "#   Change in mean\n",
    "estimate1 = calculateGaussianMixtureEntropy([0, 1], [4, 4], [0.5, 0.5])\n",
    "estimate2 = calculateGaussianMixtureEntropy([0, 4], [4, 4], [0.5, 0.5])\n",
    "#print(estimate1, estimate2)\n",
    "assert(estimate1 < estimate2)\n",
    "#   Change in std\n",
    "estimate1 = calculateGaussianMixtureEntropy([0, 1], [4, 4], [0.5, 0.5])\n",
    "estimate2 = calculateGaussianMixtureEntropy([0, 1], [4, 16], [0.5, 0.5])\n",
    "#print(estimate1, estimate2)\n",
    "assert(estimate1 < estimate2)\n",
    "print(\"OK!\")\n",
    "if False:\n",
    "    plt.bar(result.variate_arr, result.pdf_arr)\n",
    "    plt.title(f\"Hx={result.Hx}\")\n",
    "    plt.ylim([0, 0.5])\n",
    "    plt.figure()\n",
    "    _ = plt.hist(sample_arr, bins=int(num_point/10))"
   ]
  },
  {
   "cell_type": "code",
   "execution_count": 304,
   "metadata": {},
   "outputs": [
    {
     "name": "stdout",
     "output_type": "stream",
     "text": [
      "> \u001b[0;32m/var/folders/02/lb248q1j50dch2pthzkvxmpr0000gn/T/ipykernel_68408/589611636.py\u001b[0m(26)\u001b[0;36mcalculateMixture1d\u001b[0;34m()\u001b[0m\n",
      "\u001b[0;32m     24 \u001b[0;31m    \u001b[0;31m# Calculate entropy\u001b[0m\u001b[0;34m\u001b[0m\u001b[0;34m\u001b[0m\u001b[0;34m\u001b[0m\u001b[0m\n",
      "\u001b[0m\u001b[0;32m     25 \u001b[0;31m    \u001b[0;32mimport\u001b[0m \u001b[0mpdb\u001b[0m\u001b[0;34m;\u001b[0m \u001b[0mpdb\u001b[0m\u001b[0;34m.\u001b[0m\u001b[0mset_trace\u001b[0m\u001b[0;34m(\u001b[0m\u001b[0;34m)\u001b[0m\u001b[0;34m\u001b[0m\u001b[0;34m\u001b[0m\u001b[0m\n",
      "\u001b[0m\u001b[0;32m---> 26 \u001b[0;31m    \u001b[0mHx\u001b[0m \u001b[0;34m=\u001b[0m \u001b[0mcalculateGaussianMixtureEntropy\u001b[0m\u001b[0;34m(\u001b[0m\u001b[0mmean_arr\u001b[0m\u001b[0;34m,\u001b[0m \u001b[0mstd_arr\u001b[0m\u001b[0;34m,\u001b[0m \u001b[0mweight_arr\u001b[0m\u001b[0;34m)\u001b[0m\u001b[0;34m\u001b[0m\u001b[0;34m\u001b[0m\u001b[0m\n",
      "\u001b[0m\u001b[0;32m     27 \u001b[0;31m    \u001b[0;31m# Calculate the range for the x-variate\u001b[0m\u001b[0;34m\u001b[0m\u001b[0;34m\u001b[0m\u001b[0;34m\u001b[0m\u001b[0m\n",
      "\u001b[0m\u001b[0;32m     28 \u001b[0;31m    \u001b[0;31m#\u001b[0m\u001b[0;34m\u001b[0m\u001b[0;34m\u001b[0m\u001b[0;34m\u001b[0m\u001b[0m\n",
      "\u001b[0m\n"
     ]
    },
    {
     "name": "stdin",
     "output_type": "stream",
     "text": [
      "ipdb>  c\n"
     ]
    },
    {
     "name": "stdout",
     "output_type": "stream",
     "text": [
      "OK!\n"
     ]
    }
   ],
   "source": [
    "Mixture = collections.namedtuple(\"Mixture\", [\"gmm\", \"Hx\"])\n",
    "def calculateMixture1d(sample_arr, num_component:int=3, num_point=100)->Mixture:\n",
    "    \"\"\"\n",
    "    Calculates a guassian mixture distribution for 1d sample.\n",
    "\n",
    "    Args:\n",
    "        sample_arr: array of one dimensional variates\n",
    "        num_component (int): number of components used in the GMM\n",
    "\n",
    "    Returns:\n",
    "        Mixture:\n",
    "            gmm: GausianMixture gitted object\n",
    "            Hx: differential entropy\n",
    "            variate_arr: values on x-axis\n",
    "            pdf_arr: density\n",
    "            dx (float): change in x values in calculation\n",
    "    \"\"\"\n",
    "    EXTREME_SIGMA = 4\n",
    "    gmm = GaussianMixture(n_components=num_component, random_state=42, covariance_type='diag')\n",
    "    gmm.fit(sample_arr)\n",
    "    std_arr = np.sqrt(gmm.covariances_.flatten())\n",
    "    mean_arr = np.reshape(gmm.means_, num_component)\n",
    "    weight_arr = gmm.weights_\n",
    "    # Calculate entropy\n",
    "    Hx = calculateGaussianMixtureEntropy(mean_arr, std_arr, weight_arr)\n",
    "    # Calculate the range for the x-variate\n",
    "    #\n",
    "    return Mixture(gmm=gmm, Hx=Hx)\n",
    "\n",
    "# Tests\n",
    "num_point = 1000\n",
    "sigmas = [1, 2, 4]\n",
    "num_component = len(sigmas)\n",
    "sample_arr = generateMixture([10*num_point]*num_component, 10*np.array(range(num_component)), sigmas)\n",
    "result = calculateMixture1d(sample_arr, num_point=num_point)\n",
    "assert(isinstance(result.gmm, GaussianMixture))\n",
    "print(\"OK!\")"
   ]
  },
  {
   "cell_type": "code",
   "execution_count": 6,
   "metadata": {},
   "outputs": [
    {
     "name": "stdout",
     "output_type": "stream",
     "text": [
      "9.965784284662087 5.993820869553668\n",
      "OK!\n"
     ]
    }
   ],
   "source": [
    "def calculateEntropy(sample_arr:np.ndarray[float], precision:int=2)->np.ndarray[int]:\n",
    "    \"\"\"\n",
    "    Calculates the entropy by binning to the number of decimal values specified by precision.\n",
    "    \"\"\"\n",
    "    sample_arr = np.array(sample_arr)  # Ensure this is an array\n",
    "    #\n",
    "    int_arr = np.array([int(v) for v in (10**precision)*sample_arr])\n",
    "    unique_arr, count_arr = np.unique(int_arr, return_counts=True)\n",
    "    num_count = len(count_arr)\n",
    "    prob_arr = count_arr/num_count\n",
    "    return -np.sum(np.log2(prob_arr))/num_count\n",
    "\n",
    "# Tests\n",
    "num_sample = 1000\n",
    "sample_arr = np.random.uniform(10, 20, num_sample)\n",
    "assert((np.log2(num_sample) - calculateEntropy(sample_arr, precision=4)) < 0.1)\n",
    "#\n",
    "sample_arr = np.random.normal(0, 8, num_sample)\n",
    "print(np.log2(num_sample), calculateEntropy(sample_arr, precision=0.8))\n",
    "print(\"OK!\")\n",
    "    "
   ]
  },
  {
   "cell_type": "markdown",
   "metadata": {},
   "source": [
    "### estimate_mi_gmm"
   ]
  },
  {
   "cell_type": "code",
   "execution_count": 7,
   "metadata": {},
   "outputs": [],
   "source": [
    "# --- 3. GMM-based Mutual Information Estimation ---\n",
    "\n",
    "def estimate_mi_gmm(X_samples, T_samples, n_components=5, cov_type='full', random_state=None):\n",
    "    \"\"\"\n",
    "    Estimates Mutual Information I(X; T) using Gaussian Mixture Models.\n",
    "    X_samples (numpy.ndarray): Input data (e.g., X).\n",
    "    T_samples (numpy.ndarray): Layer activations (e.g., T).\n",
    "    Both are treated as continuous variables.\n",
    "    \"\"\"\n",
    "    X_samples = np.asarray(X_samples)\n",
    "    T_samples = np.asarray(T_samples)\n",
    "\n",
    "    # Ensure X_samples and T_samples have at least 2 dimensions for GMM if they are 1D\n",
    "    if X_samples.ndim == 1:\n",
    "        X_samples = X_samples.reshape(-1, 1)\n",
    "    if T_samples.ndim == 1:\n",
    "        T_samples = T_samples.reshape(-1, 1)\n",
    "\n",
    "    # Check for NaN/Inf in data before fitting GMM\n",
    "    if np.isnan(X_samples).any() or np.isinf(X_samples).any() or \\\n",
    "       np.isnan(T_samples).any() or np.isinf(T_samples).any():\n",
    "        print(\"Warning: NaN or Inf values found in input or activation data. Skipping MI calculation.\")\n",
    "        return 0.0\n",
    "\n",
    "    joint_XT_samples = np.hstack((X_samples, T_samples))\n",
    "\n",
    "    # Heuristic for minimum samples per GMM component to avoid errors\n",
    "    min_samples_for_gmm = n_components * (joint_XT_samples.shape[1] + 1)\n",
    "    if joint_XT_samples.shape[0] < min_samples_for_gmm:\n",
    "        # print(f\"Warning: Not enough samples ({joint_XT_samples.shape[0]}) for GMM for joint XT. Need at least {min_samples_for_gmm}. Returning 0.0.\")\n",
    "        return 0.0\n",
    "\n",
    "    try:\n",
    "        # Fit GMM on joint (X, T)\n",
    "        gmm_joint_XT = GaussianMixture(n_components=n_components,\n",
    "                                       #covariance_type=cov_type,\n",
    "                                       random_state=random_state, tol=1e-3, max_iter=200, n_init=3)\n",
    "        gmm_joint_XT.fit(joint_XT_samples)\n",
    "        #H_XT = -gmm_joint_XT.score(joint_XT_samples) / joint_XT_samples.shape[0] # Average negative log-likelihood\n",
    "        H_XT = -gmm_joint_XT.score(joint_XT_samples)\n",
    "\n",
    "        # Fit GMM on X\n",
    "        gmm_X = GaussianMixture(n_components=n_components, \n",
    "                                #covariance_type=cov_type,\n",
    "                                random_state=random_state, tol=1e-3, max_iter=200, n_init=3)\n",
    "        gmm_X.fit(X_samples)\n",
    "        #H_X = -gmm_X.score(X_samples) / X_samples.shape[0]\n",
    "        H_X = -gmm_X.score(X_samples) \n",
    "\n",
    "        # Fit GMM on T\n",
    "        gmm_T = GaussianMixture(n_components=n_components, \n",
    "                                #covariance_type=cov_type,\n",
    "                                random_state=random_state, tol=1e-3, max_iter=200, n_init=3)\n",
    "        gmm_T.fit(T_samples)\n",
    "        #H_T = -gmm_T.score(T_samples) / T_samples.shape[0]\n",
    "        H_T = -gmm_T.score(T_samples)\n",
    "\n",
    "        # I(X; T) = H(X) + H(T) - H(X, T)\n",
    "        I_XT = H_X + H_T - H_XT\n",
    "        # Mutual information must be non-negative\n",
    "        I_XT = max(0, I_XT)\n",
    "\n",
    "    except ValueError as e:\n",
    "        # print(f\"Error fitting GMM for I(X; T) or computing entropy: {e}. Returning 0.0.\")\n",
    "        return 0.0 # Return 0 if GMM fitting fails (e.g., not enough samples, singular covariance)\n",
    "    except Exception as e:\n",
    "        # print(f\"An unexpected error occurred during I(X;T) calculation: {e}. Returning 0.0.\")\n",
    "        return 0.0\n",
    "\n",
    "    return I_XT\n"
   ]
  },
  {
   "cell_type": "markdown",
   "metadata": {},
   "source": [
    "### estimate_mi_discrete_continuous_gmm"
   ]
  },
  {
   "cell_type": "code",
   "execution_count": 8,
   "metadata": {},
   "outputs": [],
   "source": [
    "def estimate_mi_discrete_continuous_gmm(discrete_var, continuous_var, n_components=5, cov_type='full', random_state=None):\n",
    "    \"\"\"\n",
    "    Estimates Mutual Information I(Discrete_Var; Continuous_Var) using GMMs.\n",
    "    discrete_var (numpy.ndarray): 1D array of discrete labels (e.g., 0, 1).\n",
    "    continuous_var (numpy.ndarray): Multi-dimensional array of continuous values (activations).\n",
    "    \"\"\"\n",
    "    discrete_var = np.asarray(discrete_var).flatten()\n",
    "    continuous_var = np.asarray(continuous_var)\n",
    "\n",
    "    if continuous_var.ndim == 1:\n",
    "        continuous_var = continuous_var.reshape(-1, 1)\n",
    "\n",
    "    # Check for NaN/Inf in data before fitting GMM\n",
    "    if np.isnan(continuous_var).any() or np.isinf(continuous_var).any():\n",
    "        print(\"Warning: NaN or Inf values found in continuous data. Skipping MI calculation.\")\n",
    "        return 0.0\n",
    "\n",
    "    # H(Y) - Entropy of the discrete variable\n",
    "    unique_classes, counts = np.unique(discrete_var, return_counts=True)\n",
    "    p_y = counts / len(discrete_var)\n",
    "    H_Y = -np.sum(p_y * np.log(p_y + 1e-10)) # Add small epsilon to avoid log(0)\n",
    "\n",
    "    # H(T) - Entropy of the continuous variable (activations)\n",
    "    # Heuristic for minimum samples per GMM component\n",
    "    min_samples_for_gmm_T = n_components * (continuous_var.shape[1] + 1)\n",
    "    if continuous_var.shape[0] < min_samples_for_gmm_T:\n",
    "        # print(f\"Warning: Not enough samples ({continuous_var.shape[0]}) for GMM for H(T). Need at least {min_samples_for_gmm_T}. Returning 0.0 for I(Y;T).\")\n",
    "        return 0.0\n",
    "\n",
    "    try:\n",
    "        gmm_T = GaussianMixture(n_components=n_components, \n",
    "                                #covariance_type=cov_type,\n",
    "                                random_state=random_state, tol=1e-3, max_iter=200, n_init=3)\n",
    "        gmm_T.fit(continuous_var)\n",
    "        H_T = -gmm_T.score(continuous_var) / continuous_var.shape[0]\n",
    "    except ValueError as e:\n",
    "        # print(f\"Error fitting GMM for H(T): {e}. Returning 0.0 for I(Y;T).\")\n",
    "        return 0.0\n",
    "    except Exception as e:\n",
    "        # print(f\"An unexpected error occurred during H(T) calculation: {e}. Returning 0.0.\")\n",
    "        return 0.0\n",
    "\n",
    "    # H(T|Y) = Sum_{y in classes} p(y) * H(T | Y=y)\n",
    "    H_T_given_Y = 0.0\n",
    "    for i, y_val in enumerate(unique_classes):\n",
    "        # Samples of T where Y = y_val\n",
    "        T_given_Y_samples = continuous_var[discrete_var == y_val]\n",
    "\n",
    "        if len(T_given_Y_samples) == 0:\n",
    "            continue # Skip if no samples for this class\n",
    "\n",
    "        # Heuristic for minimum samples per GMM component for conditional GMM\n",
    "        min_samples_for_conditional_gmm = n_components * (T_given_Y_samples.shape[1] + 1)\n",
    "        if len(T_given_Y_samples) < min_samples_for_conditional_gmm:\n",
    "            # print(f\"Warning: Not enough samples ({len(T_given_Y_samples)}) for GMM for class {y_val}. Skipping this class's contribution.\")\n",
    "            continue # Skip if not enough samples for a robust GMM fit\n",
    "\n",
    "        try:\n",
    "            gmm_T_given_Y = GaussianMixture(n_components=n_components, \n",
    "                                            #covariance_type=cov_type,\n",
    "                                            random_state=random_state, tol=1e-3, max_iter=200, n_init=3)\n",
    "            gmm_T_given_Y.fit(T_given_Y_samples)\n",
    "\n",
    "            # H_T_given_Y_current = -gmm_T_given_Y.score(T_given_Y_samples) / T_given_Y_samples.shape[0]\n",
    "            H_T_given_Y_current = -gmm_T_given_Y.score(T_given_Y_samples)\n",
    "            H_T_given_Y += p_y[i] * H_T_given_Y_current\n",
    "        except ValueError as e:\n",
    "            # print(f\"Error fitting GMM for H(T|Y={y_val}): {e}. Skipping this class's contribution.\")\n",
    "            continue\n",
    "        except Exception as e:\n",
    "            # print(f\"An unexpected error occurred during H(T|Y={y_val}) calculation: {e}. Skipping this class's contribution.\")\n",
    "            continue\n",
    "\n",
    "    I_YT = H_T - H_T_given_Y\n",
    "    I_YT = max(0, I_YT) # Mutual information must be non-negative\n",
    "    return I_YT"
   ]
  },
  {
   "cell_type": "markdown",
   "metadata": {},
   "source": [
    "### main"
   ]
  },
  {
   "cell_type": "code",
   "execution_count": 69,
   "metadata": {
    "colab": {
     "base_uri": "https://localhost:8080/",
     "height": 954
    },
    "id": "9G28kw6I3g4M",
    "outputId": "1c4cc9a0-403e-4c38-9289-0bcb8da4b718"
   },
   "outputs": [
    {
     "name": "stdout",
     "output_type": "stream",
     "text": [
      "Using device: mps\n",
      "Starting training and information plane tracking (GMM-based MI with sklearn)...\n",
      "Epoch 1/100, Loss: 0.6902, Test Accuracy: 0.8000\n",
      "Epoch 10/100, Loss: 0.1662, Test Accuracy: 0.9300\n",
      "Epoch 20/100, Loss: 0.5087, Test Accuracy: 0.8850\n",
      "Epoch 30/100, Loss: 0.1353, Test Accuracy: 0.9300\n",
      "Epoch 40/100, Loss: 0.0233, Test Accuracy: 0.9250\n",
      "Epoch 50/100, Loss: 0.2106, Test Accuracy: 0.9300\n",
      "Epoch 60/100, Loss: 0.0484, Test Accuracy: 0.9450\n",
      "Epoch 70/100, Loss: 0.0165, Test Accuracy: 0.9550\n",
      "Epoch 80/100, Loss: 0.0657, Test Accuracy: 1.0000\n",
      "Epoch 90/100, Loss: 0.1274, Test Accuracy: 0.9900\n",
      "Epoch 100/100, Loss: 0.0026, Test Accuracy: 0.9100\n",
      "Training finished.\n"
     ]
    },
    {
     "data": {
      "image/png": "[encoded data removed]",
      "text/plain": [
       "<Figure size 1000x800 with 1 Axes>"
      ]
     },
     "metadata": {},
     "output_type": "display_data"
    },
    {
     "name": "stdout",
     "output_type": "stream",
     "text": [
      "CPU times: user 2min 29s, sys: 11min 32s, total: 14min 1s\n",
      "Wall time: 2min 8s\n"
     ]
    }
   ],
   "source": [
    "%%time\n",
    "# --- Main Execution ---\n",
    "if __name__ == \"__main__\":\n",
    "    # Parameters\n",
    "    num_samples = 1000 # Increased samples for better GMM fitting\n",
    "    input_dim = 1\n",
    "    hidden_dims = [10, 10, 10, 10] # Keep hidden layers smaller for faster GMM fitting\n",
    "    #hidden_dims = [10, 10] # Keep hidden layers smaller for faster GMM fitting\n",
    "    output_dim = 1\n",
    "    learning_rate = 0.01\n",
    "    epochs = 100\n",
    "    batch_size = 10\n",
    "\n",
    "    # GPU check\n",
    "    # Determine the device to use (MPS if available, otherwise CPU)\n",
    "    if torch.backends.mps.is_available():\n",
    "        device = torch.device(\"mps\")\n",
    "    else:\n",
    "        device = torch.device(\"cpu\")\n",
    "    print(f\"Using device: {device}\")\n",
    "    timer.add(\"Initialization\")\n",
    "\n",
    "    # GMM MI parameters\n",
    "    num_gmm_components = 3 # Number of components for each GMM\n",
    "    gmm_covariance_type = 'full' # 'full', 'tied', 'diag', 'spherical'\n",
    "                                # 'full' is most flexible but computationally expensive\n",
    "                                # 'diag' is often a good compromise for higher dimensions\n",
    "    gmm_random_state = 42\n",
    "\n",
    "    # Generate data\n",
    "    \n",
    "    X_tensor, Y_tensor, X_np, Y_np_binary = generate_synthetic_data(num_samples, slope=5, intercept=1, noise_std=0.8,\n",
    "                    classification_threshold=500)\n",
    "\n",
    "    # Corrected line: Unpack all 8 values returned by train_test_split\n",
    "    X_train, X_test, Y_train, Y_test, X_np_train, X_np_test, Y_np_binary_train, Y_np_binary_test = train_test_split(\n",
    "        X_tensor, Y_tensor, X_np, Y_np_binary, test_size=0.2, random_state=42\n",
    "    )\n",
    "\n",
    "    # Initialize network, loss, and optimizer\n",
    "    model = SimpleNN(input_dim, hidden_dims, output_dim)\n",
    "    model.to(device) \n",
    "    criterion = nn.BCELoss() # Binary Cross-Entropy Loss\n",
    "    optimizer = optim.Adam(model.parameters(), lr=learning_rate)\n",
    "\n",
    "    # Store MI values for plotting\n",
    "    information_plane_data = {f'hidden_{i}': {'IXT': [], 'IYT': []} for i in range(len(hidden_dims))}\n",
    "    timer.add(\"Initialize network\")\n",
    "\n",
    "    print(\"Starting training and information plane tracking (GMM-based MI with sklearn)...\")\n",
    "\n",
    "    timer = Timer()\n",
    "    for epoch in range(epochs):\n",
    "        # Mini-batch training\n",
    "        permutation = torch.randperm(X_train.size(0))\n",
    "        for i in range(0, X_train.size(0), batch_size):\n",
    "            indices = permutation[i:i + batch_size]\n",
    "            batch_X, batch_Y = X_train[indices].to(device), Y_train[indices].to(device)\n",
    "\n",
    "            optimizer.zero_grad()\n",
    "            outputs = model(batch_X)\n",
    "            loss = criterion(outputs, batch_Y)\n",
    "            loss.backward()\n",
    "            optimizer.step()\n",
    "        timer.add(\"Mini batch processing\")\n",
    "\n",
    "        if (epoch + 1) % batch_size == 0 or epoch == 0: # Estimate MI periodically\n",
    "            # Get activations for the entire training set\n",
    "            #_ = model(X_train) # Forward pass to populate model.activations\n",
    "            _ = model(X_train.to(device))\n",
    "\n",
    "            # Estimate Information Plane coordinates for each hidden layer\n",
    "            for i in range(len(hidden_dims)):\n",
    "                layer_name = f'hidden_{i}'\n",
    "                # Ensure activations are numpy arrays\n",
    "                layer_activations = model.activations[layer_name]\n",
    "\n",
    "                # Reshape activations if they are 1D or higher than 2D (e.g., from Conv layers)\n",
    "                if layer_activations.ndim == 1:\n",
    "                    layer_activations = layer_activations.reshape(-1, 1)\n",
    "                elif layer_activations.ndim > 2:\n",
    "                     layer_activations = layer_activations.reshape(layer_activations.shape[0], -1)\n",
    "\n",
    "                # I(X; T) using GMM\n",
    "                timer.add(\"i-plane init\")\n",
    "                IXT = estimate_mi_gmm(X_np_train, layer_activations,\n",
    "                                      n_components=num_gmm_components,\n",
    "                                      cov_type=gmm_covariance_type,\n",
    "                                      random_state=gmm_random_state)\n",
    "                timer.add(\"IXT\")\n",
    "\n",
    "                # I(Y; T) using GMM (discrete Y, continuous T)\n",
    "                IYT = estimate_mi_discrete_continuous_gmm(Y_np_binary_train, layer_activations,\n",
    "                                                        n_components=num_gmm_components,\n",
    "                                                        cov_type=gmm_covariance_type,\n",
    "                                                        random_state=gmm_random_state)\n",
    "                timer.add(\"IYT\")\n",
    "\n",
    "                information_plane_data[layer_name]['IXT'].append(IXT)\n",
    "                information_plane_data[layer_name]['IYT'].append(IYT)\n",
    "\n",
    "            # Calculate accuracy on test set\n",
    "            model.eval() # Set model to evaluation mode\n",
    "            with torch.no_grad():\n",
    "                # Move test data to device for inference\n",
    "                test_outputs = model(X_test.to(device))\n",
    "                Y_test_device = Y_test.to(device)\n",
    "                predicted_classes = (test_outputs > 0.5).float()\n",
    "                accuracy = (predicted_classes == Y_test_device).float().mean().item()\n",
    "            model.train() # Set model back to training mode\n",
    "            \n",
    "\n",
    "            current_loss = loss.item() if 'loss' in locals() else 'N/A'\n",
    "            print(f\"Epoch {epoch+1}/{epochs}, Loss: {current_loss:.4f}, Test Accuracy: {accuracy:.4f}\")\n",
    "        timer.add(\"Mini batch iteration\")\n",
    "\n",
    "    print(\"Training finished.\")\n",
    "\n",
    "    # --- 4. Plotting the Information Plane ---\n",
    "    plt.figure(figsize=(10, 8))\n",
    "    colors = plt.cm.jet(np.linspace(0, 1, len(hidden_dims)))\n",
    "\n",
    "    for i, layer_name in enumerate(information_plane_data.keys()):\n",
    "        IXT_values = information_plane_data[layer_name]['IXT']\n",
    "        IYT_values = information_plane_data[layer_name]['IYT']\n",
    "\n",
    "        if len(IXT_values) > 0:\n",
    "            plt.plot(IXT_values, IYT_values, 'o-', color=colors[i], label=f'Layer {i+1} ({hidden_dims[i]} neurons)', alpha=0.7)\n",
    "            # Add annotations for start and end points\n",
    "            if len(IXT_values) > 1:\n",
    "                plt.text(IXT_values[0], IYT_values[0], 'Start', fontsize=8, color=colors[i])\n",
    "                plt.text(IXT_values[-1], IYT_values[-1], 'End', fontsize=8, color=colors[i])\n",
    "            else: # If only one point, just mark it\n",
    "                plt.text(IXT_values[0], IYT_values[0], 'Point', fontsize=8, color=colors[i])\n",
    "\n",
    "    plt.xlabel('$I(X; T)$ (Mutual Information between Input and Layer Activation)')\n",
    "    plt.ylabel('$I(Y; T)$ (Mutual Information between Output and Layer Activation)')\n",
    "    plt.title('Information Plane Trajectories During Training (GMM-based MI with sklearn)')\n",
    "    plt.grid(True)\n",
    "    plt.legend()\n",
    "    plt.show()"
   ]
  },
  {
   "cell_type": "code",
   "execution_count": 59,
   "metadata": {},
   "outputs": [
    {
     "data": {
      "text/html": [
       "<div>\n",
       "<style scoped>\n",
       "    .dataframe tbody tr th:only-of-type {\n",
       "        vertical-align: middle;\n",
       "    }\n",
       "\n",
       "    .dataframe tbody tr th {\n",
       "        vertical-align: top;\n",
       "    }\n",
       "\n",
       "    .dataframe thead th {\n",
       "        text-align: right;\n",
       "    }\n",
       "</style>\n",
       "<table border=\"1\" class=\"dataframe\">\n",
       "  <thead>\n",
       "    <tr style=\"text-align: right;\">\n",
       "      <th></th>\n",
       "      <th>name</th>\n",
       "      <th>count</th>\n",
       "      <th>total</th>\n",
       "    </tr>\n",
       "  </thead>\n",
       "  <tbody>\n",
       "    <tr>\n",
       "      <th>0</th>\n",
       "      <td>Mini batch processing</td>\n",
       "      <td>10000</td>\n",
       "      <td>10071.578661</td>\n",
       "    </tr>\n",
       "    <tr>\n",
       "      <th>1</th>\n",
       "      <td>i-plane init</td>\n",
       "      <td>804</td>\n",
       "      <td>0.483829</td>\n",
       "    </tr>\n",
       "    <tr>\n",
       "      <th>2</th>\n",
       "      <td>IXT</td>\n",
       "      <td>804</td>\n",
       "      <td>18624.548437</td>\n",
       "    </tr>\n",
       "    <tr>\n",
       "      <th>3</th>\n",
       "      <td>IYT</td>\n",
       "      <td>804</td>\n",
       "      <td>23366.356694</td>\n",
       "    </tr>\n",
       "    <tr>\n",
       "      <th>4</th>\n",
       "      <td>Mini batch iteration</td>\n",
       "      <td>10000</td>\n",
       "      <td>4.400686</td>\n",
       "    </tr>\n",
       "  </tbody>\n",
       "</table>\n",
       "</div>"
      ],
      "text/plain": [
       "                    name  count         total\n",
       "0  Mini batch processing  10000  10071.578661\n",
       "1           i-plane init    804      0.483829\n",
       "2                    IXT    804  18624.548437\n",
       "3                    IYT    804  23366.356694\n",
       "4   Mini batch iteration  10000      4.400686"
      ]
     },
     "execution_count": 59,
     "metadata": {},
     "output_type": "execute_result"
    }
   ],
   "source": [
    "timer.report()"
   ]
  },
  {
   "cell_type": "markdown",
   "metadata": {},
   "source": [
    "# Analysis of Generated Data"
   ]
  },
  {
   "cell_type": "markdown",
   "metadata": {},
   "source": [
    "The generated data are:\n",
    "* X_tensor,\n",
    "* *Y_tensor,\n",
    "* X_np,\n",
    "* Y_np_binary\n",
    "\n",
    "The classification threshold is 3.5."
   ]
  },
  {
   "cell_type": "code",
   "execution_count": 43,
   "metadata": {},
   "outputs": [],
   "source": [
    "X_tensor, Y_tensor, X_np, Y_np_binary = generate_synthetic_data(num_samples, slope=5, intercept=1, noise_std=0.8,\n",
    "                    classification_threshold=500)"
   ]
  },
  {
   "cell_type": "code",
   "execution_count": 56,
   "metadata": {},
   "outputs": [
    {
     "data": {
      "image/png": "[encoded data removed]",
      "text/plain": [
       "<Figure size 640x480 with 1 Axes>"
      ]
     },
     "metadata": {},
     "output_type": "display_data"
    },
    {
     "data": {
      "image/png": "[encoded data removed]",
      "text/plain": [
       "<Figure size 640x480 with 1 Axes>"
      ]
     },
     "metadata": {},
     "output_type": "display_data"
    }
   ],
   "source": [
    "_ = plt.hist(X_tensor, bins=100)\n",
    "_ = plt.title(\"X Tensor\")\n",
    "plt.figure()\n",
    "_ = plt.hist(Y_tensor, bins=100)\n",
    "_ = plt.title(\"Y Tensor\")"
   ]
  },
  {
   "cell_type": "markdown",
   "metadata": {},
   "source": [
    "# Entropy calculations"
   ]
  },
  {
   "cell_type": "code",
   "execution_count": 191,
   "metadata": {},
   "outputs": [
    {
     "name": "stdout",
     "output_type": "stream",
     "text": [
      "CPU times: user 416 ms, sys: 147 ms, total: 563 ms\n",
      "Wall time: 81.2 ms\n"
     ]
    },
    {
     "data": {
      "text/html": [
       "<style>#sk-container-id-4 {\n",
       "  /* Definition of color scheme common for light and dark mode */\n",
       "  --sklearn-color-text: #000;\n",
       "  --sklearn-color-text-muted: #666;\n",
       "  --sklearn-color-line: gray;\n",
       "  /* Definition of color scheme for unfitted estimators */\n",
       "  --sklearn-color-unfitted-level-0: #fff5e6;\n",
       "  --sklearn-color-unfitted-level-1: #f6e4d2;\n",
       "  --sklearn-color-unfitted-level-2: #ffe0b3;\n",
       "  --sklearn-color-unfitted-level-3: chocolate;\n",
       "  /* Definition of color scheme for fitted estimators */\n",
       "  --sklearn-color-fitted-level-0: #f0f8ff;\n",
       "  --sklearn-color-fitted-level-1: #d4ebff;\n",
       "  --sklearn-color-fitted-level-2: #b3dbfd;\n",
       "  --sklearn-color-fitted-level-3: cornflowerblue;\n",
       "\n",
       "  /* Specific color for light theme */\n",
       "  --sklearn-color-text-on-default-background: var(--sg-text-color, var(--theme-code-foreground, var(--jp-content-font-color1, black)));\n",
       "  --sklearn-color-background: var(--sg-background-color, var(--theme-background, var(--jp-layout-color0, white)));\n",
       "  --sklearn-color-border-box: var(--sg-text-color, var(--theme-code-foreground, var(--jp-content-font-color1, black)));\n",
       "  --sklearn-color-icon: #696969;\n",
       "\n",
       "  @media (prefers-color-scheme: dark) {\n",
       "    /* Redefinition of color scheme for dark theme */\n",
       "    --sklearn-color-text-on-default-background: var(--sg-text-color, var(--theme-code-foreground, var(--jp-content-font-color1, white)));\n",
       "    --sklearn-color-background: var(--sg-background-color, var(--theme-background, var(--jp-layout-color0, #111)));\n",
       "    --sklearn-color-border-box: var(--sg-text-color, var(--theme-code-foreground, var(--jp-content-font-color1, white)));\n",
       "    --sklearn-color-icon: #878787;\n",
       "  }\n",
       "}\n",
       "\n",
       "#sk-container-id-4 {\n",
       "  color: var(--sklearn-color-text);\n",
       "}\n",
       "\n",
       "#sk-container-id-4 pre {\n",
       "  padding: 0;\n",
       "}\n",
       "\n",
       "#sk-container-id-4 input.sk-hidden--visually {\n",
       "  border: 0;\n",
       "  clip: rect(1px 1px 1px 1px);\n",
       "  clip: rect(1px, 1px, 1px, 1px);\n",
       "  height: 1px;\n",
       "  margin: -1px;\n",
       "  overflow: hidden;\n",
       "  padding: 0;\n",
       "  position: absolute;\n",
       "  width: 1px;\n",
       "}\n",
       "\n",
       "#sk-container-id-4 div.sk-dashed-wrapped {\n",
       "  border: 1px dashed var(--sklearn-color-line);\n",
       "  margin: 0 0.4em 0.5em 0.4em;\n",
       "  box-sizing: border-box;\n",
       "  padding-bottom: 0.4em;\n",
       "  background-color: var(--sklearn-color-background);\n",
       "}\n",
       "\n",
       "#sk-container-id-4 div.sk-container {\n",
       "  /* jupyter's `normalize.less` sets `[hidden] { display: none; }`\n",
       "     but bootstrap.min.css set `[hidden] { display: none !important; }`\n",
       "     so we also need the `!important` here to be able to override the\n",
       "     default hidden behavior on the sphinx rendered scikit-learn.org.\n",
       "     See: https://github.com/scikit-learn/scikit-learn/issues/21755 */\n",
       "  display: inline-block !important;\n",
       "  position: relative;\n",
       "}\n",
       "\n",
       "#sk-container-id-4 div.sk-text-repr-fallback {\n",
       "  display: none;\n",
       "}\n",
       "\n",
       "div.sk-parallel-item,\n",
       "div.sk-serial,\n",
       "div.sk-item {\n",
       "  /* draw centered vertical line to link estimators */\n",
       "  background-image: linear-gradient(var(--sklearn-color-text-on-default-background), var(--sklearn-color-text-on-default-background));\n",
       "  background-size: 2px 100%;\n",
       "  background-repeat: no-repeat;\n",
       "  background-position: center center;\n",
       "}\n",
       "\n",
       "/* Parallel-specific style estimator block */\n",
       "\n",
       "#sk-container-id-4 div.sk-parallel-item::after {\n",
       "  content: \"\";\n",
       "  width: 100%;\n",
       "  border-bottom: 2px solid var(--sklearn-color-text-on-default-background);\n",
       "  flex-grow: 1;\n",
       "}\n",
       "\n",
       "#sk-container-id-4 div.sk-parallel {\n",
       "  display: flex;\n",
       "  align-items: stretch;\n",
       "  justify-content: center;\n",
       "  background-color: var(--sklearn-color-background);\n",
       "  position: relative;\n",
       "}\n",
       "\n",
       "#sk-container-id-4 div.sk-parallel-item {\n",
       "  display: flex;\n",
       "  flex-direction: column;\n",
       "}\n",
       "\n",
       "#sk-container-id-4 div.sk-parallel-item:first-child::after {\n",
       "  align-self: flex-end;\n",
       "  width: 50%;\n",
       "}\n",
       "\n",
       "#sk-container-id-4 div.sk-parallel-item:last-child::after {\n",
       "  align-self: flex-start;\n",
       "  width: 50%;\n",
       "}\n",
       "\n",
       "#sk-container-id-4 div.sk-parallel-item:only-child::after {\n",
       "  width: 0;\n",
       "}\n",
       "\n",
       "/* Serial-specific style estimator block */\n",
       "\n",
       "#sk-container-id-4 div.sk-serial {\n",
       "  display: flex;\n",
       "  flex-direction: column;\n",
       "  align-items: center;\n",
       "  background-color: var(--sklearn-color-background);\n",
       "  padding-right: 1em;\n",
       "  padding-left: 1em;\n",
       "}\n",
       "\n",
       "\n",
       "/* Toggleable style: style used for estimator/Pipeline/ColumnTransformer box that is\n",
       "clickable and can be expanded/collapsed.\n",
       "- Pipeline and ColumnTransformer use this feature and define the default style\n",
       "- Estimators will overwrite some part of the style using the `sk-estimator` class\n",
       "*/\n",
       "\n",
       "/* Pipeline and ColumnTransformer style (default) */\n",
       "\n",
       "#sk-container-id-4 div.sk-toggleable {\n",
       "  /* Default theme specific background. It is overwritten whether we have a\n",
       "  specific estimator or a Pipeline/ColumnTransformer */\n",
       "  background-color: var(--sklearn-color-background);\n",
       "}\n",
       "\n",
       "/* Toggleable label */\n",
       "#sk-container-id-4 label.sk-toggleable__label {\n",
       "  cursor: pointer;\n",
       "  display: flex;\n",
       "  width: 100%;\n",
       "  margin-bottom: 0;\n",
       "  padding: 0.5em;\n",
       "  box-sizing: border-box;\n",
       "  text-align: center;\n",
       "  align-items: start;\n",
       "  justify-content: space-between;\n",
       "  gap: 0.5em;\n",
       "}\n",
       "\n",
       "#sk-container-id-4 label.sk-toggleable__label .caption {\n",
       "  font-size: 0.6rem;\n",
       "  font-weight: lighter;\n",
       "  color: var(--sklearn-color-text-muted);\n",
       "}\n",
       "\n",
       "#sk-container-id-4 label.sk-toggleable__label-arrow:before {\n",
       "  /* Arrow on the left of the label */\n",
       "  content: \"▸\";\n",
       "  float: left;\n",
       "  margin-right: 0.25em;\n",
       "  color: var(--sklearn-color-icon);\n",
       "}\n",
       "\n",
       "#sk-container-id-4 label.sk-toggleable__label-arrow:hover:before {\n",
       "  color: var(--sklearn-color-text);\n",
       "}\n",
       "\n",
       "/* Toggleable content - dropdown */\n",
       "\n",
       "#sk-container-id-4 div.sk-toggleable__content {\n",
       "  max-height: 0;\n",
       "  max-width: 0;\n",
       "  overflow: hidden;\n",
       "  text-align: left;\n",
       "  /* unfitted */\n",
       "  background-color: var(--sklearn-color-unfitted-level-0);\n",
       "}\n",
       "\n",
       "#sk-container-id-4 div.sk-toggleable__content.fitted {\n",
       "  /* fitted */\n",
       "  background-color: var(--sklearn-color-fitted-level-0);\n",
       "}\n",
       "\n",
       "#sk-container-id-4 div.sk-toggleable__content pre {\n",
       "  margin: 0.2em;\n",
       "  border-radius: 0.25em;\n",
       "  color: var(--sklearn-color-text);\n",
       "  /* unfitted */\n",
       "  background-color: var(--sklearn-color-unfitted-level-0);\n",
       "}\n",
       "\n",
       "#sk-container-id-4 div.sk-toggleable__content.fitted pre {\n",
       "  /* unfitted */\n",
       "  background-color: var(--sklearn-color-fitted-level-0);\n",
       "}\n",
       "\n",
       "#sk-container-id-4 input.sk-toggleable__control:checked~div.sk-toggleable__content {\n",
       "  /* Expand drop-down */\n",
       "  max-height: 200px;\n",
       "  max-width: 100%;\n",
       "  overflow: auto;\n",
       "}\n",
       "\n",
       "#sk-container-id-4 input.sk-toggleable__control:checked~label.sk-toggleable__label-arrow:before {\n",
       "  content: \"▾\";\n",
       "}\n",
       "\n",
       "/* Pipeline/ColumnTransformer-specific style */\n",
       "\n",
       "#sk-container-id-4 div.sk-label input.sk-toggleable__control:checked~label.sk-toggleable__label {\n",
       "  color: var(--sklearn-color-text);\n",
       "  background-color: var(--sklearn-color-unfitted-level-2);\n",
       "}\n",
       "\n",
       "#sk-container-id-4 div.sk-label.fitted input.sk-toggleable__control:checked~label.sk-toggleable__label {\n",
       "  background-color: var(--sklearn-color-fitted-level-2);\n",
       "}\n",
       "\n",
       "/* Estimator-specific style */\n",
       "\n",
       "/* Colorize estimator box */\n",
       "#sk-container-id-4 div.sk-estimator input.sk-toggleable__control:checked~label.sk-toggleable__label {\n",
       "  /* unfitted */\n",
       "  background-color: var(--sklearn-color-unfitted-level-2);\n",
       "}\n",
       "\n",
       "#sk-container-id-4 div.sk-estimator.fitted input.sk-toggleable__control:checked~label.sk-toggleable__label {\n",
       "  /* fitted */\n",
       "  background-color: var(--sklearn-color-fitted-level-2);\n",
       "}\n",
       "\n",
       "#sk-container-id-4 div.sk-label label.sk-toggleable__label,\n",
       "#sk-container-id-4 div.sk-label label {\n",
       "  /* The background is the default theme color */\n",
       "  color: var(--sklearn-color-text-on-default-background);\n",
       "}\n",
       "\n",
       "/* On hover, darken the color of the background */\n",
       "#sk-container-id-4 div.sk-label:hover label.sk-toggleable__label {\n",
       "  color: var(--sklearn-color-text);\n",
       "  background-color: var(--sklearn-color-unfitted-level-2);\n",
       "}\n",
       "\n",
       "/* Label box, darken color on hover, fitted */\n",
       "#sk-container-id-4 div.sk-label.fitted:hover label.sk-toggleable__label.fitted {\n",
       "  color: var(--sklearn-color-text);\n",
       "  background-color: var(--sklearn-color-fitted-level-2);\n",
       "}\n",
       "\n",
       "/* Estimator label */\n",
       "\n",
       "#sk-container-id-4 div.sk-label label {\n",
       "  font-family: monospace;\n",
       "  font-weight: bold;\n",
       "  display: inline-block;\n",
       "  line-height: 1.2em;\n",
       "}\n",
       "\n",
       "#sk-container-id-4 div.sk-label-container {\n",
       "  text-align: center;\n",
       "}\n",
       "\n",
       "/* Estimator-specific */\n",
       "#sk-container-id-4 div.sk-estimator {\n",
       "  font-family: monospace;\n",
       "  border: 1px dotted var(--sklearn-color-border-box);\n",
       "  border-radius: 0.25em;\n",
       "  box-sizing: border-box;\n",
       "  margin-bottom: 0.5em;\n",
       "  /* unfitted */\n",
       "  background-color: var(--sklearn-color-unfitted-level-0);\n",
       "}\n",
       "\n",
       "#sk-container-id-4 div.sk-estimator.fitted {\n",
       "  /* fitted */\n",
       "  background-color: var(--sklearn-color-fitted-level-0);\n",
       "}\n",
       "\n",
       "/* on hover */\n",
       "#sk-container-id-4 div.sk-estimator:hover {\n",
       "  /* unfitted */\n",
       "  background-color: var(--sklearn-color-unfitted-level-2);\n",
       "}\n",
       "\n",
       "#sk-container-id-4 div.sk-estimator.fitted:hover {\n",
       "  /* fitted */\n",
       "  background-color: var(--sklearn-color-fitted-level-2);\n",
       "}\n",
       "\n",
       "/* Specification for estimator info (e.g. \"i\" and \"?\") */\n",
       "\n",
       "/* Common style for \"i\" and \"?\" */\n",
       "\n",
       ".sk-estimator-doc-link,\n",
       "a:link.sk-estimator-doc-link,\n",
       "a:visited.sk-estimator-doc-link {\n",
       "  float: right;\n",
       "  font-size: smaller;\n",
       "  line-height: 1em;\n",
       "  font-family: monospace;\n",
       "  background-color: var(--sklearn-color-background);\n",
       "  border-radius: 1em;\n",
       "  height: 1em;\n",
       "  width: 1em;\n",
       "  text-decoration: none !important;\n",
       "  margin-left: 0.5em;\n",
       "  text-align: center;\n",
       "  /* unfitted */\n",
       "  border: var(--sklearn-color-unfitted-level-1) 1pt solid;\n",
       "  color: var(--sklearn-color-unfitted-level-1);\n",
       "}\n",
       "\n",
       ".sk-estimator-doc-link.fitted,\n",
       "a:link.sk-estimator-doc-link.fitted,\n",
       "a:visited.sk-estimator-doc-link.fitted {\n",
       "  /* fitted */\n",
       "  border: var(--sklearn-color-fitted-level-1) 1pt solid;\n",
       "  color: var(--sklearn-color-fitted-level-1);\n",
       "}\n",
       "\n",
       "/* On hover */\n",
       "div.sk-estimator:hover .sk-estimator-doc-link:hover,\n",
       ".sk-estimator-doc-link:hover,\n",
       "div.sk-label-container:hover .sk-estimator-doc-link:hover,\n",
       ".sk-estimator-doc-link:hover {\n",
       "  /* unfitted */\n",
       "  background-color: var(--sklearn-color-unfitted-level-3);\n",
       "  color: var(--sklearn-color-background);\n",
       "  text-decoration: none;\n",
       "}\n",
       "\n",
       "div.sk-estimator.fitted:hover .sk-estimator-doc-link.fitted:hover,\n",
       ".sk-estimator-doc-link.fitted:hover,\n",
       "div.sk-label-container:hover .sk-estimator-doc-link.fitted:hover,\n",
       ".sk-estimator-doc-link.fitted:hover {\n",
       "  /* fitted */\n",
       "  background-color: var(--sklearn-color-fitted-level-3);\n",
       "  color: var(--sklearn-color-background);\n",
       "  text-decoration: none;\n",
       "}\n",
       "\n",
       "/* Span, style for the box shown on hovering the info icon */\n",
       ".sk-estimator-doc-link span {\n",
       "  display: none;\n",
       "  z-index: 9999;\n",
       "  position: relative;\n",
       "  font-weight: normal;\n",
       "  right: .2ex;\n",
       "  padding: .5ex;\n",
       "  margin: .5ex;\n",
       "  width: min-content;\n",
       "  min-width: 20ex;\n",
       "  max-width: 50ex;\n",
       "  color: var(--sklearn-color-text);\n",
       "  box-shadow: 2pt 2pt 4pt #999;\n",
       "  /* unfitted */\n",
       "  background: var(--sklearn-color-unfitted-level-0);\n",
       "  border: .5pt solid var(--sklearn-color-unfitted-level-3);\n",
       "}\n",
       "\n",
       ".sk-estimator-doc-link.fitted span {\n",
       "  /* fitted */\n",
       "  background: var(--sklearn-color-fitted-level-0);\n",
       "  border: var(--sklearn-color-fitted-level-3);\n",
       "}\n",
       "\n",
       ".sk-estimator-doc-link:hover span {\n",
       "  display: block;\n",
       "}\n",
       "\n",
       "/* \"?\"-specific style due to the `<a>` HTML tag */\n",
       "\n",
       "#sk-container-id-4 a.estimator_doc_link {\n",
       "  float: right;\n",
       "  font-size: 1rem;\n",
       "  line-height: 1em;\n",
       "  font-family: monospace;\n",
       "  background-color: var(--sklearn-color-background);\n",
       "  border-radius: 1rem;\n",
       "  height: 1rem;\n",
       "  width: 1rem;\n",
       "  text-decoration: none;\n",
       "  /* unfitted */\n",
       "  color: var(--sklearn-color-unfitted-level-1);\n",
       "  border: var(--sklearn-color-unfitted-level-1) 1pt solid;\n",
       "}\n",
       "\n",
       "#sk-container-id-4 a.estimator_doc_link.fitted {\n",
       "  /* fitted */\n",
       "  border: var(--sklearn-color-fitted-level-1) 1pt solid;\n",
       "  color: var(--sklearn-color-fitted-level-1);\n",
       "}\n",
       "\n",
       "/* On hover */\n",
       "#sk-container-id-4 a.estimator_doc_link:hover {\n",
       "  /* unfitted */\n",
       "  background-color: var(--sklearn-color-unfitted-level-3);\n",
       "  color: var(--sklearn-color-background);\n",
       "  text-decoration: none;\n",
       "}\n",
       "\n",
       "#sk-container-id-4 a.estimator_doc_link.fitted:hover {\n",
       "  /* fitted */\n",
       "  background-color: var(--sklearn-color-fitted-level-3);\n",
       "}\n",
       "</style><div id=\"sk-container-id-4\" class=\"sk-top-container\"><div class=\"sk-text-repr-fallback\"><pre>GaussianMixture(n_components=3, random_state=42)</pre><b>In a Jupyter environment, please rerun this cell to show the HTML representation or trust the notebook. <br />On GitHub, the HTML representation is unable to render, please try loading this page with nbviewer.org.</b></div><div class=\"sk-container\" hidden><div class=\"sk-item\"><div class=\"sk-estimator fitted sk-toggleable\"><input class=\"sk-toggleable__control sk-hidden--visually\" id=\"sk-estimator-id-4\" type=\"checkbox\" checked><label for=\"sk-estimator-id-4\" class=\"sk-toggleable__label fitted sk-toggleable__label-arrow\"><div><div>GaussianMixture</div></div><div><a class=\"sk-estimator-doc-link fitted\" rel=\"noreferrer\" target=\"_blank\" href=\"https://scikit-learn.org/1.6/modules/generated/sklearn.mixture.GaussianMixture.html\">?<span>Documentation for GaussianMixture</span></a><span class=\"sk-estimator-doc-link fitted\">i<span>Fitted</span></span></div></label><div class=\"sk-toggleable__content fitted\"><pre>GaussianMixture(n_components=3, random_state=42)</pre></div> </div></div></div></div>"
      ],
      "text/plain": [
       "GaussianMixture(n_components=3, random_state=42)"
      ]
     },
     "execution_count": 191,
     "metadata": {},
     "output_type": "execute_result"
    }
   ],
   "source": [
    "%%time\n",
    "\n",
    "\"\"\"\n",
    "num_samples = [500, 500] # Increased samples for better GMM fitting\n",
    "input_dim = 1\n",
    "hidden_dims = [40, 30, 20, 20, 2] # Keep hidden layers smaller for faster GMM fitting\n",
    "output_dim = 1\n",
    "learning_rate = 0.01\n",
    "epochs = 100\n",
    "batch_size = 10\n",
    "\"\"\"\n",
    "\n",
    "# Fit GMM on X\n",
    "X_samples = generateMixture([10000, 10000, 10000], [10, 15, 20], [1, 2, 4])\n",
    "\n",
    "gmm_X = GaussianMixture(n_components=3, random_state=42, covariance_type='full')\n",
    "gmm_X.fit(X_samples)"
   ]
  },
  {
   "cell_type": "code",
   "execution_count": 192,
   "metadata": {},
   "outputs": [
    {
     "data": {
      "text/plain": [
       "array([[[10.72516241]],\n",
       "\n",
       "       [[ 1.08241865]],\n",
       "\n",
       "       [[ 4.64584541]]])"
      ]
     },
     "execution_count": 192,
     "metadata": {},
     "output_type": "execute_result"
    }
   ],
   "source": [
    "gmm_X.covariances_"
   ]
  },
  {
   "cell_type": "code",
   "execution_count": 200,
   "metadata": {},
   "outputs": [
    {
     "data": {
      "text/plain": [
       "array([10.72516241,  1.08241865,  4.64584541])"
      ]
     },
     "execution_count": 200,
     "metadata": {},
     "output_type": "execute_result"
    }
   ],
   "source": [
    "gmm_X.covariances_.flatten()"
   ]
  },
  {
   "cell_type": "code",
   "execution_count": 199,
   "metadata": {},
   "outputs": [
    {
     "data": {
      "text/plain": [
       "array([10.72516241])"
      ]
     },
     "execution_count": 199,
     "metadata": {},
     "output_type": "execute_result"
    }
   ],
   "source": [
    "np.diag(gmm_X.covariances_[0])"
   ]
  },
  {
   "cell_type": "code",
   "execution_count": 193,
   "metadata": {},
   "outputs": [
    {
     "data": {
      "text/plain": [
       "array([[21.72996452],\n",
       "       [10.04268105],\n",
       "       [15.38917301]])"
      ]
     },
     "execution_count": 193,
     "metadata": {},
     "output_type": "execute_result"
    }
   ],
   "source": [
    "gmm_X.means_"
   ]
  },
  {
   "cell_type": "code",
   "execution_count": 194,
   "metadata": {},
   "outputs": [
    {
     "data": {
      "text/plain": [
       "array([0.22652189, 0.3438475 , 0.42963061])"
      ]
     },
     "execution_count": 194,
     "metadata": {},
     "output_type": "execute_result"
    }
   ],
   "source": [
    "gmm_X.weights_"
   ]
  },
  {
   "cell_type": "code",
   "execution_count": 272,
   "metadata": {},
   "outputs": [
    {
     "data": {
      "text/plain": [
       "array([[0.97806824],\n",
       "       [0.96962038],\n",
       "       [3.99627658]])"
      ]
     },
     "execution_count": 272,
     "metadata": {},
     "output_type": "execute_result"
    }
   ],
   "source": [
    "result.gmm.covariances_"
   ]
  },
  {
   "cell_type": "code",
   "execution_count": null,
   "metadata": {},
   "outputs": [],
   "source": [
    "def calculateGaussianMixtureEntropy(stds:List[float, weights:List[float])->float:\n",
    "    \"\"\"\n",
    "    Uses the normal distribut to calculate the expected entropy of a guassian mixture.\n",
    "\n",
    "    Args:\n",
    "        means: distribution of the means\n",
    "        stds: variances of the distributions\n",
    "        weights: weight of component\n",
    "\n",
    "    Returns:\n",
    "        float - entropy\n",
    "    \"\"\"\n",
    "    entropy = 0\n",
    "    for std, weight in zip(stds, weights):\n",
    "        entropy += [1/2*np.log2(2*np.pi*np.e*sigmas[n]**2) for n in range(num_component)])/num_component"
   ]
  },
  {
   "cell_type": "code",
   "execution_count": 239,
   "metadata": {},
   "outputs": [
    {
     "data": {
      "text/plain": [
       "3.419812253246834"
      ]
     },
     "execution_count": 239,
     "metadata": {},
     "output_type": "execute_result"
    }
   ],
   "source": [
    "sum(pdf.pdf_arr)\n"
   ]
  },
  {
   "cell_type": "markdown",
   "metadata": {},
   "source": [
    "# Anaysis of Entropy Calculations"
   ]
  },
  {
   "cell_type": "code",
   "execution_count": 92,
   "metadata": {},
   "outputs": [],
   "source": [
    "mixture_arr = generateMixture(num_samples=[1000, 1000], means=[10, 20], stds=[1, 2])"
   ]
  },
  {
   "cell_type": "code",
   "execution_count": 211,
   "metadata": {},
   "outputs": [
    {
     "data": {
      "text/plain": [
       "array([0., 0., 0., 0., 0., 0., 0., 0., 0., 0.])"
      ]
     },
     "execution_count": 211,
     "metadata": {},
     "output_type": "execute_result"
    }
   ],
   "source": [
    "np.zeros(10)"
   ]
  },
  {
   "cell_type": "code",
   "execution_count": 93,
   "metadata": {},
   "outputs": [
    {
     "data": {
      "image/png": "[encoded data removed]",
      "text/plain": [
       "<Figure size 640x480 with 1 Axes>"
      ]
     },
     "metadata": {},
     "output_type": "display_data"
    }
   ],
   "source": [
    "_ = plt.hist(mixture_arr, bins=100)\n",
    "_ = plt.title(\"\")"
   ]
  }
 ],
 "metadata": {
  "colab": {
   "provenance": []
  },
  "kernelspec": {
   "display_name": "Python 3 (ipykernel)",
   "language": "python",
   "name": "python3"
  },
  "language_info": {
   "codemirror_mode": {
    "name": "ipython",
    "version": 3
   },
   "file_extension": ".py",
   "mimetype": "text/x-python",
   "name": "python",
   "nbconvert_exporter": "python",
   "pygments_lexer": "ipython3",
   "version": "3.9.6"
  }
 },
 "nbformat": 4,
 "nbformat_minor": 4
}
