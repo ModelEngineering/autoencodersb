{
 "cells": [
  {
   "cell_type": "markdown",
   "id": "f685fc68-f131-4fbe-b5a6-8ad50d407959",
   "metadata": {},
   "source": [
    "# EVALUATING AUTOENCODERS"
   ]
  },
  {
   "cell_type": "markdown",
   "id": "12b5cc60-f0ad-41c4-8840-24ebe1d896ef",
   "metadata": {},
   "source": [
    "The evaluation encompasses\n",
    "* **Function recovery**. Can the autoencoder accurately recover time courses from reaction networks.\n",
    "* **Insightful interpretation**. Does the autoencoder produce a low dimension representation that provides useful insights.\n",
    "\n",
    "The initial focus is on function recovery. To gain insight into the effectiveness of autoencoders for this task, we start by considering synthetic time courses to investigate the ability of autoencoderes to recover functions similar to those used in rate laws of biological systems."
   ]
  },
  {
   "cell_type": "markdown",
   "id": "2b5a188e-b132-40b2-8c22-daec624941f0",
   "metadata": {},
   "source": [
    "# Preliminaries"
   ]
  },
  {
   "cell_type": "code",
   "execution_count": 4,
   "id": "60581f75-f397-47ac-baa1-05c452ed7f59",
   "metadata": {},
   "outputs": [],
   "source": [
    "from autoencodersb import constants as cn\n",
    "from autoencodersb.data_generator import DataGenerator\n",
    "from autoencodersb.polynomial_collection import PolynomialCollection\n",
    "from autoencodersb.model_runner_pca import ModelRunnerPCA\n",
    "from autoencodersb.model_runner_nn import ModelRunnerNN\n",
    "from autoencodersb.autoencoder import Autoencoder\n",
    "\n",
    "import numpy as np\n",
    "import pandas as pd"
   ]
  },
  {
   "cell_type": "markdown",
   "id": "6122f721-754a-43f6-a803-483327b73b2a",
   "metadata": {},
   "source": [
    "# Helpers"
   ]
  },
  {
   "cell_type": "markdown",
   "id": "ca0990bf-9bc6-4163-9011-3ba82ae8788d",
   "metadata": {},
   "source": [
    "# Evaluation Data"
   ]
  },
  {
   "cell_type": "markdown",
   "id": "4b19a18d-cd4a-4649-81b3-4ee2ad942e5f",
   "metadata": {},
   "source": [
    "Below we describe the data used to evaluate autoencoders.\n",
    "\n",
    "The emphasis is on time series similar to those encountered in biological models. Our approach is to consider the functional form of common rate laws. These typically consist of a single term that is one of the following:\n",
    "\n",
    "* A constant times the concentration of a floating species. This is a first order polynomal.\n",
    "    * $A \\rightarrow B;~ kA$.\n",
    "* A constant times a the product of concentrations of two floatin species. This is a second order polynomial.\n",
    "    * $A B \\rightarrow C;~ k A B$\n",
    "* An ratio of polynomials for Michaelis-Menten and Hill Equations\n",
    "    * $A \\rightarrow B; ~ \\frac{v A^n}{(k + A^n)}$"
   ]
  },
  {
   "cell_type": "markdown",
   "id": "81089038-ec2d-4fce-91f8-8e8b7f93e5c4",
   "metadata": {},
   "source": [
    "We consider tree different time series for the floating species in a rate law\n",
    "* Linear: $A = kt$, where $k$ is a fixed constant\n",
    "* Exponential: $A = e^{-r t}$\n",
    "* Exponential integeral: $A = 1 - r e^{-r t}$"
   ]
  },
  {
   "cell_type": "markdown",
   "id": "fa3bf012-7114-47ad-ae7f-4089877159dd",
   "metadata": {},
   "source": [
    "# TO DO"
   ]
  },
  {
   "cell_type": "markdown",
   "id": "9451eb1d-78a4-489d-a765-77f5e31e9a46",
   "metadata": {},
   "source": [
    "1. Test Hill ratio terms\n",
    "2. Select synthetic data for evaluations\n",
    "3. Evaluate w.r.t. PCA"
   ]
  }
 ],
 "metadata": {
  "kernelspec": {
   "display_name": "Python 3 (ipykernel)",
   "language": "python",
   "name": "python3"
  },
  "language_info": {
   "codemirror_mode": {
    "name": "ipython",
    "version": 3
   },
   "file_extension": ".py",
   "mimetype": "text/x-python",
   "name": "python",
   "nbconvert_exporter": "python",
   "pygments_lexer": "ipython3",
   "version": "3.9.6"
  }
 },
 "nbformat": 4,
 "nbformat_minor": 5
}
